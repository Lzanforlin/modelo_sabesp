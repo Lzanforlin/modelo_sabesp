{
 "cells": [
  {
   "attachments": {},
   "cell_type": "markdown",
   "metadata": {},
   "source": [
    "##### Premissas Modelos Paramétricos:\n",
    "- Outliers \n",
    "- Nulos \n",
    "- Distribuicao dos dados (p-valor >= 0.05)\n",
    "- Correlação "
   ]
  },
  {
   "cell_type": "code",
   "execution_count": 5,
   "metadata": {},
   "outputs": [
    {
     "ename": "ModuleNotFoundError",
     "evalue": "No module named 'catboost'",
     "output_type": "error",
     "traceback": [
      "\u001b[0;31m---------------------------------------------------------------------------\u001b[0m",
      "\u001b[0;31mModuleNotFoundError\u001b[0m                       Traceback (most recent call last)",
      "\u001b[1;32m/Users/lucaszanforlin/Projects/TCC Univesp/modelo_sabesp/exploratory_data_analysis.ipynb Cell 2\u001b[0m line \u001b[0;36m2\n\u001b[1;32m      <a href='vscode-notebook-cell:/Users/lucaszanforlin/Projects/TCC%20Univesp/modelo_sabesp/exploratory_data_analysis.ipynb#W1sZmlsZQ%3D%3D?line=0'>1</a>\u001b[0m \u001b[39mimport\u001b[39;00m \u001b[39mpandas\u001b[39;00m \u001b[39mas\u001b[39;00m \u001b[39mpd\u001b[39;00m\n\u001b[0;32m----> <a href='vscode-notebook-cell:/Users/lucaszanforlin/Projects/TCC%20Univesp/modelo_sabesp/exploratory_data_analysis.ipynb#W1sZmlsZQ%3D%3D?line=1'>2</a>\u001b[0m \u001b[39mimport\u001b[39;00m \u001b[39mcatboost\u001b[39;00m\n\u001b[1;32m      <a href='vscode-notebook-cell:/Users/lucaszanforlin/Projects/TCC%20Univesp/modelo_sabesp/exploratory_data_analysis.ipynb#W1sZmlsZQ%3D%3D?line=2'>3</a>\u001b[0m \u001b[39mfrom\u001b[39;00m \u001b[39msklearn\u001b[39;00m\u001b[39m.\u001b[39;00m\u001b[39mmetrics\u001b[39;00m \u001b[39mimport\u001b[39;00m mean_squared_error, r2_score\n\u001b[1;32m      <a href='vscode-notebook-cell:/Users/lucaszanforlin/Projects/TCC%20Univesp/modelo_sabesp/exploratory_data_analysis.ipynb#W1sZmlsZQ%3D%3D?line=3'>4</a>\u001b[0m \u001b[39mfrom\u001b[39;00m \u001b[39mmath\u001b[39;00m \u001b[39mimport\u001b[39;00m sqrt\n",
      "\u001b[0;31mModuleNotFoundError\u001b[0m: No module named 'catboost'"
     ]
    }
   ],
   "source": [
    "import pandas as pd\n",
    "import catboost\n",
    "from sklearn.metrics import mean_squared_error, r2_score\n",
    "from math import sqrt\n",
    "import xgboost as xgb\n",
    "from sklearn.model_selection import train_test_split\n",
    "import math\n",
    "from sklearn.ensemble import RandomForestRegressor\n",
    "import numpy as np\n",
    "import statistics\n",
    "import sys\n",
    "import os\n",
    "from typing import List\n",
    "import seaborn as sns\n",
    "import sklearn\n",
    "from scipy import stats\n",
    "import matplotlib as plt\n",
    "import numpy\n",
    "from scipy.stats import shapiro, boxcox\n",
    "import statsmodels.api as sm\n",
    "from sklearn.preprocessing import MinMaxScaler, PowerTransformer\n",
    "from scipy.stats import spearmanr\n",
    "from statsmodels.formula.api import ols\n",
    "from sklearn.linear_model import LinearRegression\n",
    "\n",
    "from sklearn.tree import DecisionTreeRegressor\n",
    "from xgboost import XGBRegressor"
   ]
  },
  {
   "cell_type": "code",
   "execution_count": null,
   "metadata": {},
   "outputs": [],
   "source": [
    "\n",
    "df1 = pd.read_csv(\"data/sabesp_cf.csv\", sep=\";\",encoding='cp1252')\n",
    "df2 = pd.read_csv(\"data/inmet.csv\", sep=\";\", encoding='cp1252')"
   ]
  },
  {
   "attachments": {},
   "cell_type": "markdown",
   "metadata": {},
   "source": [
    "##### Transformações iniciais"
   ]
  },
  {
   "cell_type": "code",
   "execution_count": null,
   "metadata": {},
   "outputs": [],
   "source": [
    "def split_date(df_raw:pd.DataFrame, date_col_name:str) -> pd.DataFrame:\n",
    "    \"\"\"Função realiza a separação da coluna data, utilizando como caracter de separação o /. \n",
    "    Inicialmente tinhamos uma data no formato 2022/04/11 e o objetivo é a separação criando 3 novas colunas:\n",
    "    Dia, Mes e Ano. Desta forma, podemos utilizar como uma features de entrada para o nosso modelo de Machine Learning.\n",
    "\n",
    "    Args:\n",
    "        df_raw (pd.DataFrame): Dataframe raw, sem nenhum tratamento inicial.\n",
    "        col_name (str): Nome da coluna de data que precisa ser transformada.\n",
    "\n",
    "    Returns:\n",
    "        pd.DataFrame: Dataframe com a coluna data, transformada em novas 3 colunas. \n",
    "    \"\"\"\n",
    "\n",
    "    df_raw[[\"DdDia\", \"MmMes\", \"AaAno\"]] = df_raw[date_col_name].str.split(\"/\", expand = True).astype(int)\n",
    "    df_raw = df_raw.drop(date_col_name, axis=1)\n",
    "    return df_raw"
   ]
  },
  {
   "cell_type": "code",
   "execution_count": null,
   "metadata": {},
   "outputs": [],
   "source": [
    "def converting_str_to_float(df_raw: pd.DataFrame, cols_to_float: List[str])->pd.DataFrame:\n",
    "  \"\"\"Função converte todas as colunas do Dataframe que são do tipo string para float. Por estarmos\n",
    "  construindo um modelo de regressão linear,  nossas entradas precisam obrigatoriamente ser numéricas.\n",
    "  Primeiramente substituimos , por . e então convertemos a variável para o tipo float.\n",
    "\n",
    "  Args:\n",
    "      df_raw (pd.DataFrame): Dataframe raw, sem nenhum tratamento inicial.\n",
    "      cols_to_float (List[str]): Lista contendo todos os nomes de colunas que precisam ser convertidas em float.\n",
    "  Returns:\n",
    "      pd.DataFrame: Dataframe com as colunas convertidas de string para float.\n",
    "  \"\"\"\n",
    "  #Perceba que o nosso dataframe já recebe a função onde a data foi tratada e dividida em 3 novas colunas de data.\n",
    "  for col in df_raw:\n",
    "    if col in cols_to_float:\n",
    "        df_raw[col] = df_raw[col].str.replace(',', '.').astype(float)\n",
    "    else:\n",
    "       df_raw[col] = df_raw[col].astype(int)\n",
    "  return df_raw    "
   ]
  },
  {
   "cell_type": "code",
   "execution_count": null,
   "metadata": {},
   "outputs": [],
   "source": [
    "def rename_cols(df_raw:pd.DataFrame, new_col_names:List[str]) -> pd.DataFrame:\n",
    "    \"\"\"Função renomeia colunas afim de, uma maior organização e padonização de variáveis. A regra considerada para a nomenclatura das colunas segue:\n",
    "    Mnemonico|NomeDaColuna. Repare que o nome da coluna segue a convenção de developers CamelCase.\n",
    "    Mnemonico ---------- Significado\n",
    "        Aa               Coluna refere-se a dados do tipo Int, simbolizando ano.\n",
    "        Ds               Coluna refere-se a dados do tipo string, simbolizando descrição.\n",
    "        Dd               Coluna refere-se a dados do tipo Int, simbolizando dia.\n",
    "        Mm               Coluna refere-se a dados do tipo Int, simbolizando mês.\n",
    "        Vl               Coluna refere-se a dados do tipo float, simbolizando volume.\n",
    "        Vr               Coluna refere-se a dados do tipo float, simbolizando valor.\n",
    "        Vz               Coluna refere-se a dados do tipo float, simbolizando vazão.\n",
    "        Pc               Coluna refere-se a dados do tipo float, simbolizando porcentagem.\n",
    "    Args:\n",
    "        df_raw (pd.DataFrame): Dataframe raw, sem nenhum tratamento inicial.\n",
    "        new_col_names (List[str]): Lista com os novos nomes para as colunas do Dataframe, seguindo regras definida.\n",
    "\n",
    "    Returns:\n",
    "        pd.DataFrame: Dataframe com colunas renomeadas.\n",
    "    \"\"\"\n",
    "    df_raw.columns = new_col_names\n",
    "    \n",
    "    return df_raw"
   ]
  },
  {
   "cell_type": "code",
   "execution_count": null,
   "metadata": {},
   "outputs": [],
   "source": [
    "def pre_process_df1(df_raw:pd.DataFrame, date_col_name:str, cols_to_float: List[str], new_col_names:List[str])->pd.DataFrame:\n",
    "    df1 = split_date(df_raw, date_col_name)\n",
    "    df1 = converting_str_to_float(df1, cols_to_float)\n",
    "    df1 = rename_cols(df1,new_col_names)\n",
    "    return df1"
   ]
  },
  {
   "cell_type": "code",
   "execution_count": null,
   "metadata": {},
   "outputs": [],
   "source": [
    "def pre_process_df2(df_raw: pd.DataFrame, date_col_name: str, new_col_names: List[str]) -> pd.DataFrame:\n",
    "    df2 = split_date(df_raw, date_col_name)\n",
    "    df2 = rename_cols(df2,new_col_names)\n",
    "    return df2"
   ]
  },
  {
   "attachments": {},
   "cell_type": "markdown",
   "metadata": {},
   "source": [
    "##### Processamento inicial das 2 tabelas"
   ]
  },
  {
   "cell_type": "code",
   "execution_count": null,
   "metadata": {},
   "outputs": [],
   "source": [
    "tb1 = pre_process_df1(df_raw = df1, date_col_name=\"ï»¿Data\", cols_to_float =[\"NÃ­vel (m)\", \"Volume (hmÂ³)\", \"Volume (%)\", \"Q Jusante (mÂ³/s)\", \"Q Natural (mÂ³/s)\", \"Chuva (mm)\"], new_col_names=[\"VrNivel\" , \"VlVolume\", \"PcVolume\", \"VzQJusante\", \"VzQNatural\",\"VrChuva\", \"DdDia\", \"MmMes\", \"AaAno\"])"
   ]
  },
  {
   "cell_type": "code",
   "execution_count": null,
   "metadata": {},
   "outputs": [],
   "source": [
    "tb2 = pre_process_df2(df_raw = df2, date_col_name='Data', new_col_names=['DsLocal', 'VrTempMin', 'VrTempMed', 'VrTempMax', 'VrUmidadeArMin', 'VrUmidadeArMed', 'VrUmidadeArMax', 'VrPrecipitacao', \"DdDia\", \"MmMes\", \"AaAno\"])"
   ]
  },
  {
   "attachments": {},
   "cell_type": "markdown",
   "metadata": {},
   "source": [
    "##### Juntando tabelas"
   ]
  },
  {
   "cell_type": "code",
   "execution_count": null,
   "metadata": {},
   "outputs": [],
   "source": [
    "def join_df(tb1: pd.DataFrame, tb2: pd.DataFrame) -> pd.DataFrame:\n",
    "    df = pd.merge(tb1, tb2,  how='left', left_on=[\"DdDia\", \"MmMes\", \"AaAno\"], right_on = [\"DdDia\", \"MmMes\", \"AaAno\"])\n",
    "    df = df.drop('DsLocal', axis=1)\n",
    "    #drop rows based in data where < 26/05/2008\n",
    "    df = df.drop(df[(((df.AaAno <= 2008) & (df.MmMes <= 5) & (df.DdDia < 26)))].index)\n",
    "    return df"
   ]
  },
  {
   "cell_type": "code",
   "execution_count": null,
   "metadata": {},
   "outputs": [],
   "source": [
    "def create_abt(tb1: pd.DataFrame, tb2: pd.DataFrame, cols_to_transoform:List[str]):\n",
    "    df = pre_process_df1(df_raw = df1, date_col_name=\"ï»¿Data\", cols_to_float =[\"NÃ­vel (m)\", \"Volume (hmÂ³)\", \"Volume (%)\", \"Q Jusante (mÂ³/s)\", \"Q Natural (mÂ³/s)\", \"Chuva (mm)\"], new_col_names=[\"VrNivel\" , \"VlVolume\", \"PcVolume\", \"VzQJusante\", \"VzQNatural\",\"VrChuva\", \"DdDia\", \"MmMes\", \"AaAno\"])\n",
    "    #outliers\n",
    "    df = df.drop(df[(df.VrUmidadeArMin < 10)].index)\n",
    "    df = df.drop(df[(df.VrUmidadeArMax <= 93)].index)\n",
    "    df = df.drop(df[(df.VrUmidadeArMed < 50)].index)\n",
    "    df = df.drop(df[(df.VrPrecipitacao > 2)].index)\n",
    "    df = df.drop(df[(df.VrTempMin <= 2)].index)\n",
    "    df.drop(df[((df.VrTempMed < 2) | (df.VrTempMed >= 30))].index)\n",
    "    df = df.drop(df[((df.VrTempMax < 0) | (df.VrTempMax >= 40))].index)\n",
    "    df = df.drop(df[(df.VrNivel <= 629)].index)\n",
    "    df = df.drop(df[(df.VlVolume < 0)].index)\n",
    "    df = df.drop(df[(df.VzQJusante >= 35)].index)\n",
    "    df = df.drop(df[((df.VzQNatural < -2) | (df.VzQNatural >= 30))].index)\n",
    "    df = df.drop(df[(df.VrChuva > 2)].index)\n",
    "    #Regra utilizada: média do mesmo mês do ano anterior, e, caso não exista ano anterior, preenche com a média geral de todos os anos.\n",
    "    #ordena df\n",
    "    df = df.sort_values(by=['AaAno', 'MmMes'])\n",
    "\n",
    "    for coluna in cols_to_transoform:\n",
    "        if df[coluna].isnull().any():\n",
    "        # média dos valores não nulos do ano anterior e mesmo mês\n",
    "            media_mes_ano_anterior = df.groupby(['AaAno', 'MmMes'])[coluna].shift().groupby(df['AaAno']).transform('mean')\n",
    "            \n",
    "            # média geral de todos os anos para os valores não nulos\n",
    "            media_geral = df[coluna].mean()\n",
    "            \n",
    "            # preenche os valores NaN na coluna específica com a média do ano e mês anterior,\n",
    "            # e, caso não exista ano anterior, preencha com a média geral\n",
    "            df[coluna] = df[coluna].fillna(media_mes_ano_anterior.fillna(media_geral))\n",
    "\n",
    "        return df"
   ]
  },
  {
   "attachments": {},
   "cell_type": "markdown",
   "metadata": {},
   "source": [
    "### Análise Descritiva (EDA) - "
   ]
  },
  {
   "attachments": {},
   "cell_type": "markdown",
   "metadata": {},
   "source": [
    "#### Feeling Missing values"
   ]
  },
  {
   "cell_type": "code",
   "execution_count": null,
   "metadata": {},
   "outputs": [],
   "source": [
    "df = join_df(tb1, tb2)"
   ]
  },
  {
   "cell_type": "code",
   "execution_count": null,
   "metadata": {},
   "outputs": [
    {
     "data": {
      "text/plain": [
       "VrNivel           7587\n",
       "VlVolume          7587\n",
       "PcVolume          7587\n",
       "VzQJusante        7587\n",
       "VzQNatural        7587\n",
       "VrChuva           7587\n",
       "DdDia             7587\n",
       "MmMes             7587\n",
       "AaAno             7587\n",
       "VrTempMin         5304\n",
       "VrTempMed         5316\n",
       "VrTempMax         5316\n",
       "VrUmidadeArMin    4631\n",
       "VrUmidadeArMed    5316\n",
       "VrUmidadeArMax    4631\n",
       "VrPrecipitacao    5316\n",
       "dtype: int64"
      ]
     },
     "execution_count": 662,
     "metadata": {},
     "output_type": "execute_result"
    }
   ],
   "source": [
    "df.count()"
   ]
  },
  {
   "cell_type": "code",
   "execution_count": null,
   "metadata": {},
   "outputs": [],
   "source": [
    "def count_not_null(df:pd.DataFrame):\n",
    "    for col in df:\n",
    "        null = df[col].notnull().sum()\n",
    "        print(f\"{col}:{null}\")"
   ]
  },
  {
   "cell_type": "code",
   "execution_count": null,
   "metadata": {},
   "outputs": [],
   "source": [
    "def count_is_null(df:pd.DataFrame):\n",
    "    for col in df:\n",
    "        null = df[col].isnull().sum()\n",
    "        print(f\"{col}:{null}\")"
   ]
  },
  {
   "cell_type": "code",
   "execution_count": null,
   "metadata": {},
   "outputs": [
    {
     "name": "stdout",
     "output_type": "stream",
     "text": [
      "VrNivel:7587\n",
      "VlVolume:7587\n",
      "PcVolume:7587\n",
      "VzQJusante:7587\n",
      "VzQNatural:7587\n",
      "VrChuva:7587\n",
      "DdDia:7587\n",
      "MmMes:7587\n",
      "AaAno:7587\n",
      "VrTempMin:5304\n",
      "VrTempMed:5316\n",
      "VrTempMax:5316\n",
      "VrUmidadeArMin:4631\n",
      "VrUmidadeArMed:5316\n",
      "VrUmidadeArMax:4631\n",
      "VrPrecipitacao:5316\n"
     ]
    }
   ],
   "source": [
    "count_not_null(df)"
   ]
  },
  {
   "attachments": {},
   "cell_type": "markdown",
   "metadata": {},
   "source": [
    "##### Tratando outliers"
   ]
  },
  {
   "cell_type": "code",
   "execution_count": null,
   "metadata": {},
   "outputs": [],
   "source": [
    "#Ao limpar dataframe começar sempre do que tem menor valor para o que tem maior"
   ]
  },
  {
   "cell_type": "code",
   "execution_count": null,
   "metadata": {},
   "outputs": [
    {
     "data": {
      "text/plain": [
       "VrNivel           7586\n",
       "VlVolume          7586\n",
       "PcVolume          7586\n",
       "VzQJusante        7586\n",
       "VzQNatural        7586\n",
       "VrChuva           7586\n",
       "DdDia             7586\n",
       "MmMes             7586\n",
       "AaAno             7586\n",
       "VrTempMin         5303\n",
       "VrTempMed         5315\n",
       "VrTempMax         5315\n",
       "VrUmidadeArMin    4630\n",
       "VrUmidadeArMed    5315\n",
       "VrUmidadeArMax    4630\n",
       "VrPrecipitacao    5315\n",
       "dtype: int64"
      ]
     },
     "execution_count": 667,
     "metadata": {},
     "output_type": "execute_result"
    },
    {
     "data": {
      "image/png": "[encoded data removed]",
      "text/plain": [
       "<Figure size 640x480 with 1 Axes>"
      ]
     },
     "metadata": {},
     "output_type": "display_data"
    }
   ],
   "source": [
    "#VrUmidadeArMin:4631\n",
    "sns.boxplot(x= df[\"VrUmidadeArMin\"])\n",
    "df = df.drop(df[(df.VrUmidadeArMin < 10)].index)\n",
    "df.count()"
   ]
  },
  {
   "cell_type": "code",
   "execution_count": null,
   "metadata": {},
   "outputs": [
    {
     "data": {
      "text/plain": [
       "VrNivel           7436\n",
       "VlVolume          7436\n",
       "PcVolume          7436\n",
       "VzQJusante        7436\n",
       "VzQNatural        7436\n",
       "VrChuva           7436\n",
       "DdDia             7436\n",
       "MmMes             7436\n",
       "AaAno             7436\n",
       "VrTempMin         5153\n",
       "VrTempMed         5165\n",
       "VrTempMax         5165\n",
       "VrUmidadeArMin    4480\n",
       "VrUmidadeArMed    5165\n",
       "VrUmidadeArMax    4480\n",
       "VrPrecipitacao    5165\n",
       "dtype: int64"
      ]
     },
     "execution_count": 668,
     "metadata": {},
     "output_type": "execute_result"
    },
    {
     "data": {
      "image/png": "[encoded data removed]",
      "text/plain": [
       "<Figure size 640x480 with 1 Axes>"
      ]
     },
     "metadata": {},
     "output_type": "display_data"
    }
   ],
   "source": [
    "#VrUmidadeArMax:4630\n",
    "sns.boxplot(x= df[\"VrUmidadeArMax\"])\n",
    "df = df.drop(df[(df.VrUmidadeArMax <= 93)].index)\n",
    "df.count()"
   ]
  },
  {
   "cell_type": "code",
   "execution_count": null,
   "metadata": {},
   "outputs": [
    {
     "data": {
      "text/plain": [
       "VrNivel           6751\n",
       "VlVolume          6751\n",
       "PcVolume          6751\n",
       "VzQJusante        6751\n",
       "VzQNatural        6751\n",
       "VrChuva           6751\n",
       "DdDia             6751\n",
       "MmMes             6751\n",
       "AaAno             6751\n",
       "VrTempMin         4468\n",
       "VrTempMed         4480\n",
       "VrTempMax         4480\n",
       "VrUmidadeArMin    4480\n",
       "VrUmidadeArMed    4480\n",
       "VrUmidadeArMax    4480\n",
       "VrPrecipitacao    4480\n",
       "dtype: int64"
      ]
     },
     "execution_count": 669,
     "metadata": {},
     "output_type": "execute_result"
    },
    {
     "data": {
      "image/png": "[encoded data removed]",
      "text/plain": [
       "<Figure size 640x480 with 1 Axes>"
      ]
     },
     "metadata": {},
     "output_type": "display_data"
    }
   ],
   "source": [
    "#VrUmidadeArMed:5165\n",
    "sns.boxplot(x= df[\"VrUmidadeArMed\"])\n",
    "df = df.drop(df[(df.VrUmidadeArMed < 50)].index)\n",
    "df.count()"
   ]
  },
  {
   "cell_type": "code",
   "execution_count": null,
   "metadata": {},
   "outputs": [
    {
     "data": {
      "text/plain": [
       "VrNivel           5055\n",
       "VlVolume          5055\n",
       "PcVolume          5055\n",
       "VzQJusante        5055\n",
       "VzQNatural        5055\n",
       "VrChuva           5055\n",
       "DdDia             5055\n",
       "MmMes             5055\n",
       "AaAno             5055\n",
       "VrTempMin         2772\n",
       "VrTempMed         2784\n",
       "VrTempMax         2784\n",
       "VrUmidadeArMin    2784\n",
       "VrUmidadeArMed    2784\n",
       "VrUmidadeArMax    2784\n",
       "VrPrecipitacao    2784\n",
       "dtype: int64"
      ]
     },
     "execution_count": 670,
     "metadata": {},
     "output_type": "execute_result"
    },
    {
     "data": {
      "image/png": "[encoded data removed]",
      "text/plain": [
       "<Figure size 640x480 with 1 Axes>"
      ]
     },
     "metadata": {},
     "output_type": "display_data"
    }
   ],
   "source": [
    "#VrPrecipitacao:4480\n",
    "sns.boxplot(x= df[\"VrPrecipitacao\"])\n",
    "df = df.drop(df[(df.VrPrecipitacao > 0.6)].index)\n",
    "df.count()"
   ]
  },
  {
   "cell_type": "code",
   "execution_count": null,
   "metadata": {},
   "outputs": [
    {
     "data": {
      "text/plain": [
       "VrNivel           5038\n",
       "VlVolume          5038\n",
       "PcVolume          5038\n",
       "VzQJusante        5038\n",
       "VzQNatural        5038\n",
       "VrChuva           5038\n",
       "DdDia             5038\n",
       "MmMes             5038\n",
       "AaAno             5038\n",
       "VrTempMin         2755\n",
       "VrTempMed         2767\n",
       "VrTempMax         2767\n",
       "VrUmidadeArMin    2767\n",
       "VrUmidadeArMed    2767\n",
       "VrUmidadeArMax    2767\n",
       "VrPrecipitacao    2767\n",
       "dtype: int64"
      ]
     },
     "execution_count": 671,
     "metadata": {},
     "output_type": "execute_result"
    },
    {
     "data": {
      "image/png": "[encoded data removed]",
      "text/plain": [
       "<Figure size 640x480 with 1 Axes>"
      ]
     },
     "metadata": {},
     "output_type": "display_data"
    }
   ],
   "source": [
    "#VrTempMin:3164\n",
    "sns.boxplot(x= df[\"VrTempMin\"])\n",
    "df = df.drop(df[(df.VrTempMin <= 2)].index)\n",
    "df.count()"
   ]
  },
  {
   "cell_type": "code",
   "execution_count": null,
   "metadata": {},
   "outputs": [
    {
     "data": {
      "text/plain": [
       "VrNivel           5038\n",
       "VlVolume          5038\n",
       "PcVolume          5038\n",
       "VzQJusante        5038\n",
       "VzQNatural        5038\n",
       "VrChuva           5038\n",
       "DdDia             5038\n",
       "MmMes             5038\n",
       "AaAno             5038\n",
       "VrTempMin         2755\n",
       "VrTempMed         2767\n",
       "VrTempMax         2767\n",
       "VrUmidadeArMin    2767\n",
       "VrUmidadeArMed    2767\n",
       "VrUmidadeArMax    2767\n",
       "VrPrecipitacao    2767\n",
       "dtype: int64"
      ]
     },
     "execution_count": 672,
     "metadata": {},
     "output_type": "execute_result"
    },
    {
     "data": {
      "image/png": "[encoded data removed]",
      "text/plain": [
       "<Figure size 640x480 with 1 Axes>"
      ]
     },
     "metadata": {},
     "output_type": "display_data"
    }
   ],
   "source": [
    "#VrTempMed:3159\n",
    "sns.boxplot(x= df[\"VrTempMed\"])\n",
    "df.drop(df[((df.VrTempMed < 2) | (df.VrTempMed >= 30))].index)\n",
    "df.count()"
   ]
  },
  {
   "cell_type": "code",
   "execution_count": null,
   "metadata": {},
   "outputs": [
    {
     "data": {
      "text/plain": [
       "VrNivel           5025\n",
       "VlVolume          5025\n",
       "PcVolume          5025\n",
       "VzQJusante        5025\n",
       "VzQNatural        5025\n",
       "VrChuva           5025\n",
       "DdDia             5025\n",
       "MmMes             5025\n",
       "AaAno             5025\n",
       "VrTempMin         2754\n",
       "VrTempMed         2754\n",
       "VrTempMax         2754\n",
       "VrUmidadeArMin    2754\n",
       "VrUmidadeArMed    2754\n",
       "VrUmidadeArMax    2754\n",
       "VrPrecipitacao    2754\n",
       "dtype: int64"
      ]
     },
     "execution_count": 673,
     "metadata": {},
     "output_type": "execute_result"
    },
    {
     "data": {
      "image/png": "[encoded data removed]",
      "text/plain": [
       "<Figure size 640x480 with 1 Axes>"
      ]
     },
     "metadata": {},
     "output_type": "display_data"
    }
   ],
   "source": [
    "#VrTempMax:3159\n",
    "sns.boxplot(x= df[\"VrTempMax\"])\n",
    "df = df.drop(df[((df.VrTempMax < 0) | (df.VrTempMax >= 40))].index)\n",
    "df.count()"
   ]
  },
  {
   "cell_type": "code",
   "execution_count": null,
   "metadata": {},
   "outputs": [
    {
     "data": {
      "text/plain": [
       "VrNivel           4954\n",
       "VlVolume          4954\n",
       "PcVolume          4954\n",
       "VzQJusante        4954\n",
       "VzQNatural        4954\n",
       "VrChuva           4954\n",
       "DdDia             4954\n",
       "MmMes             4954\n",
       "AaAno             4954\n",
       "VrTempMin         2683\n",
       "VrTempMed         2683\n",
       "VrTempMax         2683\n",
       "VrUmidadeArMin    2683\n",
       "VrUmidadeArMed    2683\n",
       "VrUmidadeArMax    2683\n",
       "VrPrecipitacao    2683\n",
       "dtype: int64"
      ]
     },
     "execution_count": 674,
     "metadata": {},
     "output_type": "execute_result"
    },
    {
     "data": {
      "image/png": "[encoded data removed]",
      "text/plain": [
       "<Figure size 640x480 with 1 Axes>"
      ]
     },
     "metadata": {},
     "output_type": "display_data"
    }
   ],
   "source": [
    "#VrNivel:6541\n",
    "sns.boxplot(x= df[\"VrNivel\"])\n",
    "df = df.drop(df[(df.VrNivel <= 629)].index)\n",
    "df.count()"
   ]
  },
  {
   "cell_type": "code",
   "execution_count": null,
   "metadata": {},
   "outputs": [
    {
     "data": {
      "text/plain": [
       "VrNivel           4934\n",
       "VlVolume          4934\n",
       "PcVolume          4934\n",
       "VzQJusante        4934\n",
       "VzQNatural        4934\n",
       "VrChuva           4934\n",
       "DdDia             4934\n",
       "MmMes             4934\n",
       "AaAno             4934\n",
       "VrTempMin         2663\n",
       "VrTempMed         2663\n",
       "VrTempMax         2663\n",
       "VrUmidadeArMin    2663\n",
       "VrUmidadeArMed    2663\n",
       "VrUmidadeArMax    2663\n",
       "VrPrecipitacao    2663\n",
       "dtype: int64"
      ]
     },
     "execution_count": 675,
     "metadata": {},
     "output_type": "execute_result"
    },
    {
     "data": {
      "image/png": "[encoded data removed]",
      "text/plain": [
       "<Figure size 640x480 with 1 Axes>"
      ]
     },
     "metadata": {},
     "output_type": "display_data"
    }
   ],
   "source": [
    "#VlVolume:6454\n",
    "sns.boxplot(x= df[\"VlVolume\"])\n",
    "df = df.drop(df[(df.VlVolume < 0)].index)\n",
    "df.count()"
   ]
  },
  {
   "cell_type": "code",
   "execution_count": null,
   "metadata": {},
   "outputs": [
    {
     "data": {
      "text/plain": [
       "VrNivel           4934\n",
       "VlVolume          4934\n",
       "PcVolume          4934\n",
       "VzQJusante        4934\n",
       "VzQNatural        4934\n",
       "VrChuva           4934\n",
       "DdDia             4934\n",
       "MmMes             4934\n",
       "AaAno             4934\n",
       "VrTempMin         2663\n",
       "VrTempMed         2663\n",
       "VrTempMax         2663\n",
       "VrUmidadeArMin    2663\n",
       "VrUmidadeArMed    2663\n",
       "VrUmidadeArMax    2663\n",
       "VrPrecipitacao    2663\n",
       "dtype: int64"
      ]
     },
     "execution_count": 676,
     "metadata": {},
     "output_type": "execute_result"
    },
    {
     "data": {
      "image/png": "[encoded data removed]",
      "text/plain": [
       "<Figure size 640x480 with 1 Axes>"
      ]
     },
     "metadata": {},
     "output_type": "display_data"
    }
   ],
   "source": [
    "#PcVolume:6454\n",
    "sns.boxplot(x= df[\"PcVolume\"])\n",
    "df.count()"
   ]
  },
  {
   "cell_type": "code",
   "execution_count": null,
   "metadata": {},
   "outputs": [
    {
     "data": {
      "text/plain": [
       "VrNivel           4880\n",
       "VlVolume          4880\n",
       "PcVolume          4880\n",
       "VzQJusante        4880\n",
       "VzQNatural        4880\n",
       "VrChuva           4880\n",
       "DdDia             4880\n",
       "MmMes             4880\n",
       "AaAno             4880\n",
       "VrTempMin         2621\n",
       "VrTempMed         2621\n",
       "VrTempMax         2621\n",
       "VrUmidadeArMin    2621\n",
       "VrUmidadeArMed    2621\n",
       "VrUmidadeArMax    2621\n",
       "VrPrecipitacao    2621\n",
       "dtype: int64"
      ]
     },
     "execution_count": 677,
     "metadata": {},
     "output_type": "execute_result"
    },
    {
     "data": {
      "image/png": "[encoded data removed]",
      "text/plain": [
       "<Figure size 640x480 with 1 Axes>"
      ]
     },
     "metadata": {},
     "output_type": "display_data"
    }
   ],
   "source": [
    "#VzQJusante:6430\n",
    "sns.boxplot(x= df[\"VzQJusante\"])\n",
    "df = df.drop(df[(df.VzQJusante >= 35)].index)\n",
    "df.count()"
   ]
  },
  {
   "cell_type": "code",
   "execution_count": null,
   "metadata": {},
   "outputs": [
    {
     "data": {
      "text/plain": [
       "VrNivel           4521\n",
       "VlVolume          4521\n",
       "PcVolume          4521\n",
       "VzQJusante        4521\n",
       "VzQNatural        4521\n",
       "VrChuva           4521\n",
       "DdDia             4521\n",
       "MmMes             4521\n",
       "AaAno             4521\n",
       "VrTempMin         2414\n",
       "VrTempMed         2414\n",
       "VrTempMax         2414\n",
       "VrUmidadeArMin    2414\n",
       "VrUmidadeArMed    2414\n",
       "VrUmidadeArMax    2414\n",
       "VrPrecipitacao    2414\n",
       "dtype: int64"
      ]
     },
     "execution_count": 678,
     "metadata": {},
     "output_type": "execute_result"
    },
    {
     "data": {
      "image/png": "[encoded data removed]",
      "text/plain": [
       "<Figure size 640x480 with 1 Axes>"
      ]
     },
     "metadata": {},
     "output_type": "display_data"
    }
   ],
   "source": [
    "#VzQNatural:6341\n",
    "sns.boxplot(x= df[\"VzQNatural\"])\n",
    "df = df.drop(df[((df.VzQNatural < -2) | (df.VzQNatural >= 30))].index)\n",
    "df.count()"
   ]
  },
  {
   "cell_type": "code",
   "execution_count": null,
   "metadata": {},
   "outputs": [
    {
     "data": {
      "text/plain": [
       "VrNivel           3971\n",
       "VlVolume          3971\n",
       "PcVolume          3971\n",
       "VzQJusante        3971\n",
       "VzQNatural        3971\n",
       "VrChuva           3971\n",
       "DdDia             3971\n",
       "MmMes             3971\n",
       "AaAno             3971\n",
       "VrTempMin         2302\n",
       "VrTempMed         2302\n",
       "VrTempMax         2302\n",
       "VrUmidadeArMin    2302\n",
       "VrUmidadeArMed    2302\n",
       "VrUmidadeArMax    2302\n",
       "VrPrecipitacao    2302\n",
       "dtype: int64"
      ]
     },
     "execution_count": 679,
     "metadata": {},
     "output_type": "execute_result"
    },
    {
     "data": {
      "image/png": "[encoded data removed]",
      "text/plain": [
       "<Figure size 640x480 with 1 Axes>"
      ]
     },
     "metadata": {},
     "output_type": "display_data"
    }
   ],
   "source": [
    "#VrChuva:5804\n",
    "sns.boxplot(x= df[\"VrChuva\"])\n",
    "df = df.drop(df[(df.VrChuva > 2)].index)\n",
    "df.count()"
   ]
  },
  {
   "attachments": {},
   "cell_type": "markdown",
   "metadata": {},
   "source": [
    "##### Tratando missings"
   ]
  },
  {
   "cell_type": "code",
   "execution_count": null,
   "metadata": {},
   "outputs": [
    {
     "name": "stdout",
     "output_type": "stream",
     "text": [
      "VrNivel:0\n",
      "VlVolume:0\n",
      "PcVolume:0\n",
      "VzQJusante:0\n",
      "VzQNatural:0\n",
      "VrChuva:0\n",
      "DdDia:0\n",
      "MmMes:0\n",
      "AaAno:0\n",
      "VrTempMin:1669\n",
      "VrTempMed:1669\n",
      "VrTempMax:1669\n",
      "VrUmidadeArMin:1669\n",
      "VrUmidadeArMed:1669\n",
      "VrUmidadeArMax:1669\n",
      "VrPrecipitacao:1669\n"
     ]
    }
   ],
   "source": [
    "count_is_null(df)"
   ]
  },
  {
   "attachments": {},
   "cell_type": "markdown",
   "metadata": {},
   "source": [
    "##### Tratando valores nulos"
   ]
  },
  {
   "cell_type": "code",
   "execution_count": null,
   "metadata": {},
   "outputs": [
    {
     "data": {
      "text/html": [
       "<div>\n",
       "<style scoped>\n",
       "    .dataframe tbody tr th:only-of-type {\n",
       "        vertical-align: middle;\n",
       "    }\n",
       "\n",
       "    .dataframe tbody tr th {\n",
       "        vertical-align: top;\n",
       "    }\n",
       "\n",
       "    .dataframe thead th {\n",
       "        text-align: right;\n",
       "    }\n",
       "</style>\n",
       "<table border=\"1\" class=\"dataframe\">\n",
       "  <thead>\n",
       "    <tr style=\"text-align: right;\">\n",
       "      <th></th>\n",
       "      <th>VrNivel</th>\n",
       "      <th>VlVolume</th>\n",
       "      <th>PcVolume</th>\n",
       "      <th>VzQJusante</th>\n",
       "      <th>VzQNatural</th>\n",
       "      <th>VrChuva</th>\n",
       "      <th>DdDia</th>\n",
       "      <th>MmMes</th>\n",
       "      <th>AaAno</th>\n",
       "      <th>VrTempMin</th>\n",
       "      <th>VrTempMed</th>\n",
       "      <th>VrTempMax</th>\n",
       "      <th>VrUmidadeArMin</th>\n",
       "      <th>VrUmidadeArMed</th>\n",
       "      <th>VrUmidadeArMax</th>\n",
       "      <th>VrPrecipitacao</th>\n",
       "    </tr>\n",
       "  </thead>\n",
       "  <tbody>\n",
       "    <tr>\n",
       "      <th>1</th>\n",
       "      <td>636.97</td>\n",
       "      <td>57.541706</td>\n",
       "      <td>64.783695</td>\n",
       "      <td>28.79</td>\n",
       "      <td>24.746363</td>\n",
       "      <td>0.2</td>\n",
       "      <td>6</td>\n",
       "      <td>11</td>\n",
       "      <td>2023</td>\n",
       "      <td>9.480000</td>\n",
       "      <td>15.660000</td>\n",
       "      <td>21.840000</td>\n",
       "      <td>47.170000</td>\n",
       "      <td>73.585000</td>\n",
       "      <td>100.000000</td>\n",
       "      <td>0.00000</td>\n",
       "    </tr>\n",
       "    <tr>\n",
       "      <th>4</th>\n",
       "      <td>637.07</td>\n",
       "      <td>58.486002</td>\n",
       "      <td>65.846837</td>\n",
       "      <td>31.81</td>\n",
       "      <td>25.303422</td>\n",
       "      <td>0.0</td>\n",
       "      <td>3</td>\n",
       "      <td>11</td>\n",
       "      <td>2023</td>\n",
       "      <td>14.200000</td>\n",
       "      <td>16.630000</td>\n",
       "      <td>19.060000</td>\n",
       "      <td>74.500000</td>\n",
       "      <td>87.250000</td>\n",
       "      <td>100.000000</td>\n",
       "      <td>0.00000</td>\n",
       "    </tr>\n",
       "    <tr>\n",
       "      <th>7</th>\n",
       "      <td>637.34</td>\n",
       "      <td>61.062383</td>\n",
       "      <td>68.747472</td>\n",
       "      <td>32.66</td>\n",
       "      <td>25.357270</td>\n",
       "      <td>0.2</td>\n",
       "      <td>31</td>\n",
       "      <td>10</td>\n",
       "      <td>2023</td>\n",
       "      <td>20.330000</td>\n",
       "      <td>24.820000</td>\n",
       "      <td>29.310000</td>\n",
       "      <td>47.830000</td>\n",
       "      <td>73.915000</td>\n",
       "      <td>100.000000</td>\n",
       "      <td>0.25400</td>\n",
       "    </tr>\n",
       "    <tr>\n",
       "      <th>11</th>\n",
       "      <td>637.73</td>\n",
       "      <td>64.855204</td>\n",
       "      <td>73.017643</td>\n",
       "      <td>32.35</td>\n",
       "      <td>22.576889</td>\n",
       "      <td>0.0</td>\n",
       "      <td>27</td>\n",
       "      <td>10</td>\n",
       "      <td>2023</td>\n",
       "      <td>14.660000</td>\n",
       "      <td>17.425000</td>\n",
       "      <td>20.190000</td>\n",
       "      <td>77.700000</td>\n",
       "      <td>88.850000</td>\n",
       "      <td>100.000000</td>\n",
       "      <td>0.00000</td>\n",
       "    </tr>\n",
       "    <tr>\n",
       "      <th>14</th>\n",
       "      <td>637.98</td>\n",
       "      <td>67.332638</td>\n",
       "      <td>75.806878</td>\n",
       "      <td>32.23</td>\n",
       "      <td>23.963573</td>\n",
       "      <td>1.4</td>\n",
       "      <td>24</td>\n",
       "      <td>10</td>\n",
       "      <td>2023</td>\n",
       "      <td>14.060000</td>\n",
       "      <td>21.285000</td>\n",
       "      <td>28.510000</td>\n",
       "      <td>36.020000</td>\n",
       "      <td>68.010000</td>\n",
       "      <td>100.000000</td>\n",
       "      <td>0.00000</td>\n",
       "    </tr>\n",
       "    <tr>\n",
       "      <th>...</th>\n",
       "      <td>...</td>\n",
       "      <td>...</td>\n",
       "      <td>...</td>\n",
       "      <td>...</td>\n",
       "      <td>...</td>\n",
       "      <td>...</td>\n",
       "      <td>...</td>\n",
       "      <td>...</td>\n",
       "      <td>...</td>\n",
       "      <td>...</td>\n",
       "      <td>...</td>\n",
       "      <td>...</td>\n",
       "      <td>...</td>\n",
       "      <td>...</td>\n",
       "      <td>...</td>\n",
       "      <td>...</td>\n",
       "    </tr>\n",
       "    <tr>\n",
       "      <th>8654</th>\n",
       "      <td>639.87</td>\n",
       "      <td>87.353099</td>\n",
       "      <td>98.347041</td>\n",
       "      <td>28.48</td>\n",
       "      <td>21.961466</td>\n",
       "      <td>0.0</td>\n",
       "      <td>27</td>\n",
       "      <td>2</td>\n",
       "      <td>2000</td>\n",
       "      <td>12.608331</td>\n",
       "      <td>23.254166</td>\n",
       "      <td>25.381077</td>\n",
       "      <td>49.087107</td>\n",
       "      <td>73.141034</td>\n",
       "      <td>97.194961</td>\n",
       "      <td>0.07408</td>\n",
       "    </tr>\n",
       "    <tr>\n",
       "      <th>8655</th>\n",
       "      <td>639.92</td>\n",
       "      <td>87.916301</td>\n",
       "      <td>98.981125</td>\n",
       "      <td>30.06</td>\n",
       "      <td>22.209458</td>\n",
       "      <td>0.0</td>\n",
       "      <td>26</td>\n",
       "      <td>2</td>\n",
       "      <td>2000</td>\n",
       "      <td>12.608331</td>\n",
       "      <td>23.254166</td>\n",
       "      <td>25.381077</td>\n",
       "      <td>49.087107</td>\n",
       "      <td>73.141034</td>\n",
       "      <td>97.194961</td>\n",
       "      <td>0.07408</td>\n",
       "    </tr>\n",
       "    <tr>\n",
       "      <th>8681</th>\n",
       "      <td>638.95</td>\n",
       "      <td>77.309538</td>\n",
       "      <td>87.039434</td>\n",
       "      <td>19.98</td>\n",
       "      <td>23.656597</td>\n",
       "      <td>0.0</td>\n",
       "      <td>31</td>\n",
       "      <td>1</td>\n",
       "      <td>2000</td>\n",
       "      <td>12.608331</td>\n",
       "      <td>23.254166</td>\n",
       "      <td>25.381077</td>\n",
       "      <td>49.087107</td>\n",
       "      <td>73.141034</td>\n",
       "      <td>97.194961</td>\n",
       "      <td>0.07408</td>\n",
       "    </tr>\n",
       "    <tr>\n",
       "      <th>8682</th>\n",
       "      <td>638.92</td>\n",
       "      <td>76.991880</td>\n",
       "      <td>86.681796</td>\n",
       "      <td>18.82</td>\n",
       "      <td>15.143403</td>\n",
       "      <td>0.0</td>\n",
       "      <td>30</td>\n",
       "      <td>1</td>\n",
       "      <td>2000</td>\n",
       "      <td>12.608331</td>\n",
       "      <td>23.254166</td>\n",
       "      <td>25.381077</td>\n",
       "      <td>49.087107</td>\n",
       "      <td>73.141034</td>\n",
       "      <td>97.194961</td>\n",
       "      <td>0.07408</td>\n",
       "    </tr>\n",
       "    <tr>\n",
       "      <th>8683</th>\n",
       "      <td>638.95</td>\n",
       "      <td>77.309538</td>\n",
       "      <td>87.039434</td>\n",
       "      <td>18.29</td>\n",
       "      <td>18.290000</td>\n",
       "      <td>0.0</td>\n",
       "      <td>29</td>\n",
       "      <td>1</td>\n",
       "      <td>2000</td>\n",
       "      <td>12.608331</td>\n",
       "      <td>23.254166</td>\n",
       "      <td>25.381077</td>\n",
       "      <td>49.087107</td>\n",
       "      <td>73.141034</td>\n",
       "      <td>97.194961</td>\n",
       "      <td>0.07408</td>\n",
       "    </tr>\n",
       "  </tbody>\n",
       "</table>\n",
       "<p>3971 rows × 16 columns</p>\n",
       "</div>"
      ],
      "text/plain": [
       "      VrNivel   VlVolume   PcVolume  VzQJusante  VzQNatural  VrChuva  DdDia  \\\n",
       "1      636.97  57.541706  64.783695       28.79   24.746363      0.2      6   \n",
       "4      637.07  58.486002  65.846837       31.81   25.303422      0.0      3   \n",
       "7      637.34  61.062383  68.747472       32.66   25.357270      0.2     31   \n",
       "11     637.73  64.855204  73.017643       32.35   22.576889      0.0     27   \n",
       "14     637.98  67.332638  75.806878       32.23   23.963573      1.4     24   \n",
       "...       ...        ...        ...         ...         ...      ...    ...   \n",
       "8654   639.87  87.353099  98.347041       28.48   21.961466      0.0     27   \n",
       "8655   639.92  87.916301  98.981125       30.06   22.209458      0.0     26   \n",
       "8681   638.95  77.309538  87.039434       19.98   23.656597      0.0     31   \n",
       "8682   638.92  76.991880  86.681796       18.82   15.143403      0.0     30   \n",
       "8683   638.95  77.309538  87.039434       18.29   18.290000      0.0     29   \n",
       "\n",
       "      MmMes  AaAno  VrTempMin  VrTempMed  VrTempMax  VrUmidadeArMin  \\\n",
       "1        11   2023   9.480000  15.660000  21.840000       47.170000   \n",
       "4        11   2023  14.200000  16.630000  19.060000       74.500000   \n",
       "7        10   2023  20.330000  24.820000  29.310000       47.830000   \n",
       "11       10   2023  14.660000  17.425000  20.190000       77.700000   \n",
       "14       10   2023  14.060000  21.285000  28.510000       36.020000   \n",
       "...     ...    ...        ...        ...        ...             ...   \n",
       "8654      2   2000  12.608331  23.254166  25.381077       49.087107   \n",
       "8655      2   2000  12.608331  23.254166  25.381077       49.087107   \n",
       "8681      1   2000  12.608331  23.254166  25.381077       49.087107   \n",
       "8682      1   2000  12.608331  23.254166  25.381077       49.087107   \n",
       "8683      1   2000  12.608331  23.254166  25.381077       49.087107   \n",
       "\n",
       "      VrUmidadeArMed  VrUmidadeArMax  VrPrecipitacao  \n",
       "1          73.585000      100.000000         0.00000  \n",
       "4          87.250000      100.000000         0.00000  \n",
       "7          73.915000      100.000000         0.25400  \n",
       "11         88.850000      100.000000         0.00000  \n",
       "14         68.010000      100.000000         0.00000  \n",
       "...              ...             ...             ...  \n",
       "8654       73.141034       97.194961         0.07408  \n",
       "8655       73.141034       97.194961         0.07408  \n",
       "8681       73.141034       97.194961         0.07408  \n",
       "8682       73.141034       97.194961         0.07408  \n",
       "8683       73.141034       97.194961         0.07408  \n",
       "\n",
       "[3971 rows x 16 columns]"
      ]
     },
     "execution_count": 681,
     "metadata": {},
     "output_type": "execute_result"
    }
   ],
   "source": [
    "col_list = ['VrTempMin', 'VrTempMed','VrTempMax', 'VrUmidadeArMin', 'VrUmidadeArMed', 'VrUmidadeArMax','VrPrecipitacao']\n",
    "for coluna in df.columns:\n",
    "    # Identifique as colunas com NaN\n",
    "    if df[coluna].isnull().any():\n",
    "        # Calcule a média dos valores não nulos do ano anterior e mesmo mês\n",
    "        media_mes_ano_anterior = df.groupby(['AaAno', 'MmMes'])[coluna].shift().groupby(df['AaAno']).transform('mean')\n",
    "        \n",
    "        # Calcule a média geral de todos os anos para os valores não nulos\n",
    "        media_geral = df[coluna].mean()\n",
    "        \n",
    "        # Preencha os valores NaN na coluna específica com a média do ano e mês anterior,\n",
    "        # e, caso não exista ano anterior, preencha com a média geral\n",
    "        df[coluna] = df[coluna].fillna(media_mes_ano_anterior.fillna(media_geral))\n",
    "df"
   ]
  },
  {
   "cell_type": "code",
   "execution_count": null,
   "metadata": {},
   "outputs": [
    {
     "name": "stdout",
     "output_type": "stream",
     "text": [
      "VrNivel:0\n",
      "VlVolume:0\n",
      "PcVolume:0\n",
      "VzQJusante:0\n",
      "VzQNatural:0\n",
      "VrChuva:0\n",
      "DdDia:0\n",
      "MmMes:0\n",
      "AaAno:0\n",
      "VrTempMin:0\n",
      "VrTempMed:0\n",
      "VrTempMax:0\n",
      "VrUmidadeArMin:0\n",
      "VrUmidadeArMed:0\n",
      "VrUmidadeArMax:0\n",
      "VrPrecipitacao:0\n"
     ]
    }
   ],
   "source": [
    "count_is_null(df)"
   ]
  },
  {
   "cell_type": "code",
   "execution_count": null,
   "metadata": {},
   "outputs": [],
   "source": [
    "def normal_test(df:pd.DataFrame) -> None:\n",
    "    \"\"\"Função realiza teste de shapiro (recomendável apenas para bases pequenas) em todas as colunas do Dataframe. Shapiro: Teste de normalidade\n",
    "    dos dados, caso o pValor do teste seja maior ou igual à 0,05, significa que estes dados podem ser\n",
    "    tidos como provenientes de uma distribuição normal.\n",
    "\n",
    "    Args:\n",
    "        df (pd.DataFrame): Dataframe raw, sem nenhum tratamento inicial.\n",
    "        cols (List[str]): Lista contendo todos os nomes de colunas que precisam ser transformadas para float.\n",
    "        new_col_names (List[str]): Lista com os novos nomes para as colunas do Dataframe, seguindo regras definida.\n",
    "    \"\"\"\n",
    "    for col in df:\n",
    "        if shapiro(df[col]).pvalue >= 0.05:\n",
    "            print(f\"coluna {col} {shapiro(df[col]).pvalue}.Normal\")\n",
    "        print(f\"coluna {col} {shapiro(df[col]).pvalue}. Não Normal\")"
   ]
  },
  {
   "cell_type": "code",
   "execution_count": null,
   "metadata": {},
   "outputs": [
    {
     "name": "stdout",
     "output_type": "stream",
     "text": [
      "coluna VrNivel 2.206468688016853e-36. Não Normal\n",
      "coluna VlVolume 5.156772053392065e-32. Não Normal\n",
      "coluna PcVolume 5.15723637366064e-32. Não Normal\n",
      "coluna VzQJusante 1.6817177016197233e-31. Não Normal\n",
      "coluna VzQNatural 1.4577507230847845e-27. Não Normal\n",
      "coluna VrChuva 0.0. Não Normal\n",
      "coluna DdDia 3.66859202558803e-36. Não Normal\n",
      "coluna MmMes 8.92417406014329e-30. Não Normal\n",
      "coluna AaAno 2.989858114893543e-36. Não Normal\n",
      "coluna VrTempMin 7.838659131961112e-37. Não Normal\n",
      "coluna VrTempMed 0.0. Não Normal\n",
      "coluna VrTempMax 1.5258738978032933e-41. Não Normal\n",
      "coluna VrUmidadeArMin 2.7827536455637776e-37. Não Normal\n",
      "coluna VrUmidadeArMed 1.1378064846762101e-37. Não Normal\n",
      "coluna VrUmidadeArMax 0.0. Não Normal\n",
      "coluna VrPrecipitacao 0.0. Não Normal\n"
     ]
    }
   ],
   "source": [
    "# Pearson's: corr: Paramétrico\n",
    "# Spearman: não-paramétricos\n",
    "normal_test(df)"
   ]
  },
  {
   "cell_type": "code",
   "execution_count": null,
   "metadata": {},
   "outputs": [
    {
     "data": {
      "text/html": [
       "<div>\n",
       "<style scoped>\n",
       "    .dataframe tbody tr th:only-of-type {\n",
       "        vertical-align: middle;\n",
       "    }\n",
       "\n",
       "    .dataframe tbody tr th {\n",
       "        vertical-align: top;\n",
       "    }\n",
       "\n",
       "    .dataframe thead th {\n",
       "        text-align: right;\n",
       "    }\n",
       "</style>\n",
       "<table border=\"1\" class=\"dataframe\">\n",
       "  <thead>\n",
       "    <tr style=\"text-align: right;\">\n",
       "      <th></th>\n",
       "      <th>VrNivel</th>\n",
       "      <th>VlVolume</th>\n",
       "      <th>PcVolume</th>\n",
       "      <th>VzQJusante</th>\n",
       "      <th>VzQNatural</th>\n",
       "      <th>VrChuva</th>\n",
       "      <th>DdDia</th>\n",
       "      <th>MmMes</th>\n",
       "      <th>AaAno</th>\n",
       "      <th>VrTempMin</th>\n",
       "      <th>VrTempMed</th>\n",
       "      <th>VrTempMax</th>\n",
       "      <th>VrUmidadeArMin</th>\n",
       "      <th>VrUmidadeArMed</th>\n",
       "      <th>VrUmidadeArMax</th>\n",
       "      <th>VrPrecipitacao</th>\n",
       "    </tr>\n",
       "  </thead>\n",
       "  <tbody>\n",
       "    <tr>\n",
       "      <th>VrNivel</th>\n",
       "      <td>1.000000</td>\n",
       "      <td>0.997949</td>\n",
       "      <td>0.997949</td>\n",
       "      <td>0.327751</td>\n",
       "      <td>0.472085</td>\n",
       "      <td>-0.055538</td>\n",
       "      <td>0.039128</td>\n",
       "      <td>-0.459786</td>\n",
       "      <td>0.254105</td>\n",
       "      <td>-0.107173</td>\n",
       "      <td>0.023439</td>\n",
       "      <td>-0.120635</td>\n",
       "      <td>0.058910</td>\n",
       "      <td>0.082990</td>\n",
       "      <td>0.250414</td>\n",
       "      <td>-0.022387</td>\n",
       "    </tr>\n",
       "    <tr>\n",
       "      <th>VlVolume</th>\n",
       "      <td>0.997949</td>\n",
       "      <td>1.000000</td>\n",
       "      <td>1.000000</td>\n",
       "      <td>0.339438</td>\n",
       "      <td>0.483868</td>\n",
       "      <td>-0.056501</td>\n",
       "      <td>0.041260</td>\n",
       "      <td>-0.471396</td>\n",
       "      <td>0.258713</td>\n",
       "      <td>-0.103399</td>\n",
       "      <td>0.022900</td>\n",
       "      <td>-0.118734</td>\n",
       "      <td>0.061883</td>\n",
       "      <td>0.085730</td>\n",
       "      <td>0.247997</td>\n",
       "      <td>-0.022486</td>\n",
       "    </tr>\n",
       "    <tr>\n",
       "      <th>PcVolume</th>\n",
       "      <td>0.997949</td>\n",
       "      <td>1.000000</td>\n",
       "      <td>1.000000</td>\n",
       "      <td>0.339438</td>\n",
       "      <td>0.483868</td>\n",
       "      <td>-0.056501</td>\n",
       "      <td>0.041260</td>\n",
       "      <td>-0.471396</td>\n",
       "      <td>0.258713</td>\n",
       "      <td>-0.103399</td>\n",
       "      <td>0.022900</td>\n",
       "      <td>-0.118734</td>\n",
       "      <td>0.061883</td>\n",
       "      <td>0.085730</td>\n",
       "      <td>0.247997</td>\n",
       "      <td>-0.022486</td>\n",
       "    </tr>\n",
       "    <tr>\n",
       "      <th>VzQJusante</th>\n",
       "      <td>0.327751</td>\n",
       "      <td>0.339438</td>\n",
       "      <td>0.339438</td>\n",
       "      <td>1.000000</td>\n",
       "      <td>0.547460</td>\n",
       "      <td>-0.015839</td>\n",
       "      <td>0.015233</td>\n",
       "      <td>-0.232010</td>\n",
       "      <td>0.203133</td>\n",
       "      <td>0.097140</td>\n",
       "      <td>-0.031632</td>\n",
       "      <td>0.033626</td>\n",
       "      <td>0.082916</td>\n",
       "      <td>0.067597</td>\n",
       "      <td>-0.159420</td>\n",
       "      <td>-0.021465</td>\n",
       "    </tr>\n",
       "    <tr>\n",
       "      <th>VzQNatural</th>\n",
       "      <td>0.472085</td>\n",
       "      <td>0.483868</td>\n",
       "      <td>0.483868</td>\n",
       "      <td>0.547460</td>\n",
       "      <td>1.000000</td>\n",
       "      <td>0.095817</td>\n",
       "      <td>0.025025</td>\n",
       "      <td>-0.298943</td>\n",
       "      <td>0.434292</td>\n",
       "      <td>0.194564</td>\n",
       "      <td>-0.050157</td>\n",
       "      <td>-0.036215</td>\n",
       "      <td>0.206034</td>\n",
       "      <td>0.208224</td>\n",
       "      <td>0.022614</td>\n",
       "      <td>0.053874</td>\n",
       "    </tr>\n",
       "    <tr>\n",
       "      <th>VrChuva</th>\n",
       "      <td>-0.055538</td>\n",
       "      <td>-0.056501</td>\n",
       "      <td>-0.056501</td>\n",
       "      <td>-0.015839</td>\n",
       "      <td>0.095817</td>\n",
       "      <td>1.000000</td>\n",
       "      <td>0.012911</td>\n",
       "      <td>0.064107</td>\n",
       "      <td>-0.012438</td>\n",
       "      <td>0.090427</td>\n",
       "      <td>-0.020162</td>\n",
       "      <td>-0.065236</td>\n",
       "      <td>0.133513</td>\n",
       "      <td>0.131919</td>\n",
       "      <td>-0.016688</td>\n",
       "      <td>0.171224</td>\n",
       "    </tr>\n",
       "    <tr>\n",
       "      <th>DdDia</th>\n",
       "      <td>0.039128</td>\n",
       "      <td>0.041260</td>\n",
       "      <td>0.041260</td>\n",
       "      <td>0.015233</td>\n",
       "      <td>0.025025</td>\n",
       "      <td>0.012911</td>\n",
       "      <td>1.000000</td>\n",
       "      <td>-0.072890</td>\n",
       "      <td>-0.047021</td>\n",
       "      <td>0.010148</td>\n",
       "      <td>-0.016370</td>\n",
       "      <td>0.003708</td>\n",
       "      <td>-0.002233</td>\n",
       "      <td>-0.001925</td>\n",
       "      <td>0.003206</td>\n",
       "      <td>0.018202</td>\n",
       "    </tr>\n",
       "    <tr>\n",
       "      <th>MmMes</th>\n",
       "      <td>-0.459786</td>\n",
       "      <td>-0.471396</td>\n",
       "      <td>-0.471396</td>\n",
       "      <td>-0.232010</td>\n",
       "      <td>-0.298943</td>\n",
       "      <td>0.064107</td>\n",
       "      <td>-0.072890</td>\n",
       "      <td>1.000000</td>\n",
       "      <td>-0.225481</td>\n",
       "      <td>-0.141264</td>\n",
       "      <td>-0.023596</td>\n",
       "      <td>-0.139821</td>\n",
       "      <td>0.008601</td>\n",
       "      <td>0.003890</td>\n",
       "      <td>-0.049004</td>\n",
       "      <td>0.019106</td>\n",
       "    </tr>\n",
       "    <tr>\n",
       "      <th>AaAno</th>\n",
       "      <td>0.254105</td>\n",
       "      <td>0.258713</td>\n",
       "      <td>0.258713</td>\n",
       "      <td>0.203133</td>\n",
       "      <td>0.434292</td>\n",
       "      <td>-0.012438</td>\n",
       "      <td>-0.047021</td>\n",
       "      <td>-0.225481</td>\n",
       "      <td>1.000000</td>\n",
       "      <td>0.059145</td>\n",
       "      <td>-0.005900</td>\n",
       "      <td>-0.009985</td>\n",
       "      <td>0.006602</td>\n",
       "      <td>0.018596</td>\n",
       "      <td>0.124755</td>\n",
       "      <td>-0.058873</td>\n",
       "    </tr>\n",
       "    <tr>\n",
       "      <th>VrTempMin</th>\n",
       "      <td>-0.107173</td>\n",
       "      <td>-0.103399</td>\n",
       "      <td>-0.103399</td>\n",
       "      <td>0.097140</td>\n",
       "      <td>0.194564</td>\n",
       "      <td>0.090427</td>\n",
       "      <td>0.010148</td>\n",
       "      <td>-0.141264</td>\n",
       "      <td>0.059145</td>\n",
       "      <td>1.000000</td>\n",
       "      <td>-0.227126</td>\n",
       "      <td>0.474278</td>\n",
       "      <td>0.246095</td>\n",
       "      <td>0.215804</td>\n",
       "      <td>-0.315281</td>\n",
       "      <td>0.016354</td>\n",
       "    </tr>\n",
       "    <tr>\n",
       "      <th>VrTempMed</th>\n",
       "      <td>0.023439</td>\n",
       "      <td>0.022900</td>\n",
       "      <td>0.022900</td>\n",
       "      <td>-0.031632</td>\n",
       "      <td>-0.050157</td>\n",
       "      <td>-0.020162</td>\n",
       "      <td>-0.016370</td>\n",
       "      <td>-0.023596</td>\n",
       "      <td>-0.005900</td>\n",
       "      <td>-0.227126</td>\n",
       "      <td>1.000000</td>\n",
       "      <td>0.017905</td>\n",
       "      <td>-0.172221</td>\n",
       "      <td>-0.168754</td>\n",
       "      <td>0.036207</td>\n",
       "      <td>-0.014889</td>\n",
       "    </tr>\n",
       "    <tr>\n",
       "      <th>VrTempMax</th>\n",
       "      <td>-0.120635</td>\n",
       "      <td>-0.118734</td>\n",
       "      <td>-0.118734</td>\n",
       "      <td>0.033626</td>\n",
       "      <td>-0.036215</td>\n",
       "      <td>-0.065236</td>\n",
       "      <td>0.003708</td>\n",
       "      <td>-0.139821</td>\n",
       "      <td>-0.009985</td>\n",
       "      <td>0.474278</td>\n",
       "      <td>0.017905</td>\n",
       "      <td>1.000000</td>\n",
       "      <td>-0.648418</td>\n",
       "      <td>-0.664484</td>\n",
       "      <td>-0.166567</td>\n",
       "      <td>-0.180402</td>\n",
       "    </tr>\n",
       "    <tr>\n",
       "      <th>VrUmidadeArMin</th>\n",
       "      <td>0.058910</td>\n",
       "      <td>0.061883</td>\n",
       "      <td>0.061883</td>\n",
       "      <td>0.082916</td>\n",
       "      <td>0.206034</td>\n",
       "      <td>0.133513</td>\n",
       "      <td>-0.002233</td>\n",
       "      <td>0.008601</td>\n",
       "      <td>0.006602</td>\n",
       "      <td>0.246095</td>\n",
       "      <td>-0.172221</td>\n",
       "      <td>-0.648418</td>\n",
       "      <td>1.000000</td>\n",
       "      <td>0.995379</td>\n",
       "      <td>-0.048903</td>\n",
       "      <td>0.221220</td>\n",
       "    </tr>\n",
       "    <tr>\n",
       "      <th>VrUmidadeArMed</th>\n",
       "      <td>0.082990</td>\n",
       "      <td>0.085730</td>\n",
       "      <td>0.085730</td>\n",
       "      <td>0.067597</td>\n",
       "      <td>0.208224</td>\n",
       "      <td>0.131919</td>\n",
       "      <td>-0.001925</td>\n",
       "      <td>0.003890</td>\n",
       "      <td>0.018596</td>\n",
       "      <td>0.215804</td>\n",
       "      <td>-0.168754</td>\n",
       "      <td>-0.664484</td>\n",
       "      <td>0.995379</td>\n",
       "      <td>1.000000</td>\n",
       "      <td>0.047232</td>\n",
       "      <td>0.230827</td>\n",
       "    </tr>\n",
       "    <tr>\n",
       "      <th>VrUmidadeArMax</th>\n",
       "      <td>0.250414</td>\n",
       "      <td>0.247997</td>\n",
       "      <td>0.247997</td>\n",
       "      <td>-0.159420</td>\n",
       "      <td>0.022614</td>\n",
       "      <td>-0.016688</td>\n",
       "      <td>0.003206</td>\n",
       "      <td>-0.049004</td>\n",
       "      <td>0.124755</td>\n",
       "      <td>-0.315281</td>\n",
       "      <td>0.036207</td>\n",
       "      <td>-0.166567</td>\n",
       "      <td>-0.048903</td>\n",
       "      <td>0.047232</td>\n",
       "      <td>1.000000</td>\n",
       "      <td>0.099746</td>\n",
       "    </tr>\n",
       "    <tr>\n",
       "      <th>VrPrecipitacao</th>\n",
       "      <td>-0.022387</td>\n",
       "      <td>-0.022486</td>\n",
       "      <td>-0.022486</td>\n",
       "      <td>-0.021465</td>\n",
       "      <td>0.053874</td>\n",
       "      <td>0.171224</td>\n",
       "      <td>0.018202</td>\n",
       "      <td>0.019106</td>\n",
       "      <td>-0.058873</td>\n",
       "      <td>0.016354</td>\n",
       "      <td>-0.014889</td>\n",
       "      <td>-0.180402</td>\n",
       "      <td>0.221220</td>\n",
       "      <td>0.230827</td>\n",
       "      <td>0.099746</td>\n",
       "      <td>1.000000</td>\n",
       "    </tr>\n",
       "  </tbody>\n",
       "</table>\n",
       "</div>"
      ],
      "text/plain": [
       "                 VrNivel  VlVolume  PcVolume  VzQJusante  VzQNatural  \\\n",
       "VrNivel         1.000000  0.997949  0.997949    0.327751    0.472085   \n",
       "VlVolume        0.997949  1.000000  1.000000    0.339438    0.483868   \n",
       "PcVolume        0.997949  1.000000  1.000000    0.339438    0.483868   \n",
       "VzQJusante      0.327751  0.339438  0.339438    1.000000    0.547460   \n",
       "VzQNatural      0.472085  0.483868  0.483868    0.547460    1.000000   \n",
       "VrChuva        -0.055538 -0.056501 -0.056501   -0.015839    0.095817   \n",
       "DdDia           0.039128  0.041260  0.041260    0.015233    0.025025   \n",
       "MmMes          -0.459786 -0.471396 -0.471396   -0.232010   -0.298943   \n",
       "AaAno           0.254105  0.258713  0.258713    0.203133    0.434292   \n",
       "VrTempMin      -0.107173 -0.103399 -0.103399    0.097140    0.194564   \n",
       "VrTempMed       0.023439  0.022900  0.022900   -0.031632   -0.050157   \n",
       "VrTempMax      -0.120635 -0.118734 -0.118734    0.033626   -0.036215   \n",
       "VrUmidadeArMin  0.058910  0.061883  0.061883    0.082916    0.206034   \n",
       "VrUmidadeArMed  0.082990  0.085730  0.085730    0.067597    0.208224   \n",
       "VrUmidadeArMax  0.250414  0.247997  0.247997   -0.159420    0.022614   \n",
       "VrPrecipitacao -0.022387 -0.022486 -0.022486   -0.021465    0.053874   \n",
       "\n",
       "                 VrChuva     DdDia     MmMes     AaAno  VrTempMin  VrTempMed  \\\n",
       "VrNivel        -0.055538  0.039128 -0.459786  0.254105  -0.107173   0.023439   \n",
       "VlVolume       -0.056501  0.041260 -0.471396  0.258713  -0.103399   0.022900   \n",
       "PcVolume       -0.056501  0.041260 -0.471396  0.258713  -0.103399   0.022900   \n",
       "VzQJusante     -0.015839  0.015233 -0.232010  0.203133   0.097140  -0.031632   \n",
       "VzQNatural      0.095817  0.025025 -0.298943  0.434292   0.194564  -0.050157   \n",
       "VrChuva         1.000000  0.012911  0.064107 -0.012438   0.090427  -0.020162   \n",
       "DdDia           0.012911  1.000000 -0.072890 -0.047021   0.010148  -0.016370   \n",
       "MmMes           0.064107 -0.072890  1.000000 -0.225481  -0.141264  -0.023596   \n",
       "AaAno          -0.012438 -0.047021 -0.225481  1.000000   0.059145  -0.005900   \n",
       "VrTempMin       0.090427  0.010148 -0.141264  0.059145   1.000000  -0.227126   \n",
       "VrTempMed      -0.020162 -0.016370 -0.023596 -0.005900  -0.227126   1.000000   \n",
       "VrTempMax      -0.065236  0.003708 -0.139821 -0.009985   0.474278   0.017905   \n",
       "VrUmidadeArMin  0.133513 -0.002233  0.008601  0.006602   0.246095  -0.172221   \n",
       "VrUmidadeArMed  0.131919 -0.001925  0.003890  0.018596   0.215804  -0.168754   \n",
       "VrUmidadeArMax -0.016688  0.003206 -0.049004  0.124755  -0.315281   0.036207   \n",
       "VrPrecipitacao  0.171224  0.018202  0.019106 -0.058873   0.016354  -0.014889   \n",
       "\n",
       "                VrTempMax  VrUmidadeArMin  VrUmidadeArMed  VrUmidadeArMax  \\\n",
       "VrNivel         -0.120635        0.058910        0.082990        0.250414   \n",
       "VlVolume        -0.118734        0.061883        0.085730        0.247997   \n",
       "PcVolume        -0.118734        0.061883        0.085730        0.247997   \n",
       "VzQJusante       0.033626        0.082916        0.067597       -0.159420   \n",
       "VzQNatural      -0.036215        0.206034        0.208224        0.022614   \n",
       "VrChuva         -0.065236        0.133513        0.131919       -0.016688   \n",
       "DdDia            0.003708       -0.002233       -0.001925        0.003206   \n",
       "MmMes           -0.139821        0.008601        0.003890       -0.049004   \n",
       "AaAno           -0.009985        0.006602        0.018596        0.124755   \n",
       "VrTempMin        0.474278        0.246095        0.215804       -0.315281   \n",
       "VrTempMed        0.017905       -0.172221       -0.168754        0.036207   \n",
       "VrTempMax        1.000000       -0.648418       -0.664484       -0.166567   \n",
       "VrUmidadeArMin  -0.648418        1.000000        0.995379       -0.048903   \n",
       "VrUmidadeArMed  -0.664484        0.995379        1.000000        0.047232   \n",
       "VrUmidadeArMax  -0.166567       -0.048903        0.047232        1.000000   \n",
       "VrPrecipitacao  -0.180402        0.221220        0.230827        0.099746   \n",
       "\n",
       "                VrPrecipitacao  \n",
       "VrNivel              -0.022387  \n",
       "VlVolume             -0.022486  \n",
       "PcVolume             -0.022486  \n",
       "VzQJusante           -0.021465  \n",
       "VzQNatural            0.053874  \n",
       "VrChuva               0.171224  \n",
       "DdDia                 0.018202  \n",
       "MmMes                 0.019106  \n",
       "AaAno                -0.058873  \n",
       "VrTempMin             0.016354  \n",
       "VrTempMed            -0.014889  \n",
       "VrTempMax            -0.180402  \n",
       "VrUmidadeArMin        0.221220  \n",
       "VrUmidadeArMed        0.230827  \n",
       "VrUmidadeArMax        0.099746  \n",
       "VrPrecipitacao        1.000000  "
      ]
     },
     "execution_count": 685,
     "metadata": {},
     "output_type": "execute_result"
    }
   ],
   "source": [
    "df.corr()"
   ]
  },
  {
   "attachments": {},
   "cell_type": "markdown",
   "metadata": {},
   "source": [
    "##### Dados não-normais\n",
    "- Como nossos dados retornaram p-valor<=0,05 precisamos fazer sua normalização e para isto usarmos o boxcox e Powertranform, porém, tivemos muitos erros já que todos dados precisavam sr convrtidos. Optamos portanto, pela escolha de modelos não-paramétricos"
   ]
  },
  {
   "cell_type": "code",
   "execution_count": null,
   "metadata": {},
   "outputs": [],
   "source": [
    "x = df[['AaAno', 'MmMes', 'DdDia',\"VzQJusante\", \"VzQNatural\",\"VrChuva\", 'VrTempMin', 'VrTempMed','VrTempMax', 'VrUmidadeArMin', 'VrUmidadeArMed', 'VrUmidadeArMax','VrPrecipitacao']]\n",
    "y = df['VrNivel']"
   ]
  },
  {
   "cell_type": "code",
   "execution_count": null,
   "metadata": {},
   "outputs": [],
   "source": [
    "x_train, x_test, y_train, y_test = train_test_split(x, y, test_size=0.3, random_state=42)"
   ]
  },
  {
   "cell_type": "code",
   "execution_count": null,
   "metadata": {},
   "outputs": [
    {
     "data": {
      "text/html": [
       "<style>#sk-container-id-10 {color: black;}#sk-container-id-10 pre{padding: 0;}#sk-container-id-10 div.sk-toggleable {background-color: white;}#sk-container-id-10 label.sk-toggleable__label {cursor: pointer;display: block;width: 100%;margin-bottom: 0;padding: 0.3em;box-sizing: border-box;text-align: center;}#sk-container-id-10 label.sk-toggleable__label-arrow:before {content: \"▸\";float: left;margin-right: 0.25em;color: #696969;}#sk-container-id-10 label.sk-toggleable__label-arrow:hover:before {color: black;}#sk-container-id-10 div.sk-estimator:hover label.sk-toggleable__label-arrow:before {color: black;}#sk-container-id-10 div.sk-toggleable__content {max-height: 0;max-width: 0;overflow: hidden;text-align: left;background-color: #f0f8ff;}#sk-container-id-10 div.sk-toggleable__content pre {margin: 0.2em;color: black;border-radius: 0.25em;background-color: #f0f8ff;}#sk-container-id-10 input.sk-toggleable__control:checked~div.sk-toggleable__content {max-height: 200px;max-width: 100%;overflow: auto;}#sk-container-id-10 input.sk-toggleable__control:checked~label.sk-toggleable__label-arrow:before {content: \"▾\";}#sk-container-id-10 div.sk-estimator input.sk-toggleable__control:checked~label.sk-toggleable__label {background-color: #d4ebff;}#sk-container-id-10 div.sk-label input.sk-toggleable__control:checked~label.sk-toggleable__label {background-color: #d4ebff;}#sk-container-id-10 input.sk-hidden--visually {border: 0;clip: rect(1px 1px 1px 1px);clip: rect(1px, 1px, 1px, 1px);height: 1px;margin: -1px;overflow: hidden;padding: 0;position: absolute;width: 1px;}#sk-container-id-10 div.sk-estimator {font-family: monospace;background-color: #f0f8ff;border: 1px dotted black;border-radius: 0.25em;box-sizing: border-box;margin-bottom: 0.5em;}#sk-container-id-10 div.sk-estimator:hover {background-color: #d4ebff;}#sk-container-id-10 div.sk-parallel-item::after {content: \"\";width: 100%;border-bottom: 1px solid gray;flex-grow: 1;}#sk-container-id-10 div.sk-label:hover label.sk-toggleable__label {background-color: #d4ebff;}#sk-container-id-10 div.sk-serial::before {content: \"\";position: absolute;border-left: 1px solid gray;box-sizing: border-box;top: 0;bottom: 0;left: 50%;z-index: 0;}#sk-container-id-10 div.sk-serial {display: flex;flex-direction: column;align-items: center;background-color: white;padding-right: 0.2em;padding-left: 0.2em;position: relative;}#sk-container-id-10 div.sk-item {position: relative;z-index: 1;}#sk-container-id-10 div.sk-parallel {display: flex;align-items: stretch;justify-content: center;background-color: white;position: relative;}#sk-container-id-10 div.sk-item::before, #sk-container-id-10 div.sk-parallel-item::before {content: \"\";position: absolute;border-left: 1px solid gray;box-sizing: border-box;top: 0;bottom: 0;left: 50%;z-index: -1;}#sk-container-id-10 div.sk-parallel-item {display: flex;flex-direction: column;z-index: 1;position: relative;background-color: white;}#sk-container-id-10 div.sk-parallel-item:first-child::after {align-self: flex-end;width: 50%;}#sk-container-id-10 div.sk-parallel-item:last-child::after {align-self: flex-start;width: 50%;}#sk-container-id-10 div.sk-parallel-item:only-child::after {width: 0;}#sk-container-id-10 div.sk-dashed-wrapped {border: 1px dashed gray;margin: 0 0.4em 0.5em 0.4em;box-sizing: border-box;padding-bottom: 0.4em;background-color: white;}#sk-container-id-10 div.sk-label label {font-family: monospace;font-weight: bold;display: inline-block;line-height: 1.2em;}#sk-container-id-10 div.sk-label-container {text-align: center;}#sk-container-id-10 div.sk-container {/* jupyter's `normalize.less` sets `[hidden] { display: none; }` but bootstrap.min.css set `[hidden] { display: none !important; }` so we also need the `!important` here to be able to override the default hidden behavior on the sphinx rendered scikit-learn.org. See: https://github.com/scikit-learn/scikit-learn/issues/21755 */display: inline-block !important;position: relative;}#sk-container-id-10 div.sk-text-repr-fallback {display: none;}</style><div id=\"sk-container-id-10\" class=\"sk-top-container\"><div class=\"sk-text-repr-fallback\"><pre>DecisionTreeRegressor(random_state=42)</pre><b>In a Jupyter environment, please rerun this cell to show the HTML representation or trust the notebook. <br />On GitHub, the HTML representation is unable to render, please try loading this page with nbviewer.org.</b></div><div class=\"sk-container\" hidden><div class=\"sk-item\"><div class=\"sk-estimator sk-toggleable\"><input class=\"sk-toggleable__control sk-hidden--visually\" id=\"sk-estimator-id-10\" type=\"checkbox\" checked><label for=\"sk-estimator-id-10\" class=\"sk-toggleable__label sk-toggleable__label-arrow\">DecisionTreeRegressor</label><div class=\"sk-toggleable__content\"><pre>DecisionTreeRegressor(random_state=42)</pre></div></div></div></div></div>"
      ],
      "text/plain": [
       "DecisionTreeRegressor(random_state=42)"
      ]
     },
     "execution_count": 630,
     "metadata": {},
     "output_type": "execute_result"
    }
   ],
   "source": [
    "tree_model = DecisionTreeRegressor(random_state=42)\n",
    "tree_model.fit(x_train, y_train)"
   ]
  },
  {
   "cell_type": "code",
   "execution_count": null,
   "metadata": {},
   "outputs": [],
   "source": [
    "y_pred = tree_model.predict(x_test)"
   ]
  },
  {
   "cell_type": "code",
   "execution_count": null,
   "metadata": {},
   "outputs": [],
   "source": [
    "r2 = r2_score(y_test, y_pred)\n",
    "rmse = np.sqrt(mean_squared_error(y_test, y_pred))"
   ]
  },
  {
   "cell_type": "code",
   "execution_count": null,
   "metadata": {},
   "outputs": [
    {
     "name": "stdout",
     "output_type": "stream",
     "text": [
      "rmse:1.0135277508178326, r2:0.8062412796948224\n"
     ]
    }
   ],
   "source": [
    "print(f'rmse:{rmse}, r2:{r2}')"
   ]
  },
  {
   "cell_type": "code",
   "execution_count": null,
   "metadata": {},
   "outputs": [],
   "source": [
    "rf_model = RandomForestRegressor(random_state=42)\n",
    "rf_model.fit(x_train, y_train)\n",
    "y_pred = rf_model.predict(x_test)"
   ]
  },
  {
   "cell_type": "code",
   "execution_count": null,
   "metadata": {},
   "outputs": [
    {
     "name": "stdout",
     "output_type": "stream",
     "text": [
      "rmse:0.7329208001903514, r2:0.8986779278706971\n"
     ]
    }
   ],
   "source": [
    "r2 = r2_score(y_test, y_pred)\n",
    "rmse = np.sqrt(mean_squared_error(y_test, y_pred))\n",
    "print(f'rmse:{rmse}, r2:{r2}')"
   ]
  },
  {
   "cell_type": "code",
   "execution_count": null,
   "metadata": {},
   "outputs": [
    {
     "name": "stdout",
     "output_type": "stream",
     "text": [
      "AaAno: 0.1936452943756041\n",
      "MmMes: 0.3939393300172057\n",
      "DdDia: 0.024948546464241744\n",
      "VzQJusante: 0.11076956766671252\n",
      "VzQNatural: 0.1603806450850261\n",
      "VrChuva: 0.0028652956489682237\n",
      "VrTempMin: 0.028967705137606645\n",
      "VrTempMed: 0.01156134376914812\n",
      "VrTempMax: 0.014164213116936917\n",
      "VrUmidadeArMin: 0.00925520924346177\n",
      "VrUmidadeArMed: 0.01029797238643453\n",
      "VrUmidadeArMax: 0.03620856217172634\n",
      "VrPrecipitacao: 0.0029963149169273174\n"
     ]
    }
   ],
   "source": [
    "forest_model = RandomForestRegressor(random_state=42)\n",
    "forest_model.fit(x_train, y_train)\n",
    "feature_importances = list(zip(x_train.columns, forest_model.feature_importances_))\n",
    "for feature, importance in feature_importances:\n",
    "    print(f'{feature}: {importance}')"
   ]
  },
  {
   "cell_type": "code",
   "execution_count": null,
   "metadata": {},
   "outputs": [],
   "source": [
    "# Criar um objeto DMatrix\n",
    "dtrain = xgb.DMatrix(x_train, label=y_train)\n",
    "dtest = xgb.DMatrix(x_test, label=y_test)\n",
    "\n",
    "# Parâmetros do modelo\n",
    "params = {\n",
    "    'max_depth': 3,\n",
    "    'learning_rate': 0.1,\n",
    "    'objective': 'reg:squarederror',  # Problema de regressão\n",
    "}\n",
    "\n",
    "# Treinar o modelo\n",
    "num_round = 100\n",
    "model = xgb.train(params, dtrain, num_round)"
   ]
  },
  {
   "cell_type": "code",
   "execution_count": null,
   "metadata": {},
   "outputs": [
    {
     "name": "stdout",
     "output_type": "stream",
     "text": [
      "rmse:0.8715327736396948, r2:0.8567292893082376\n"
     ]
    }
   ],
   "source": [
    "predictions = model.predict(dtest)\n",
    "\n",
    "# Calcular o RMSE\n",
    "rmse = np.sqrt(mean_squared_error(y_test, predictions))\n",
    "r2 = r2_score(y_test, predictions)\n",
    "print(f'rmse:{rmse}, r2:{r2}')"
   ]
  },
  {
   "cell_type": "code",
   "execution_count": null,
   "metadata": {},
   "outputs": [],
   "source": [
    "model = lgb.LGBMClassifier(num_leaves=31, learning_rate=0.05, n_estimators=20)\n",
    "\n",
    "# Treinar o modelo\n",
    "model.fit(X_train, y_train)\n",
    "\n",
    "# Fazer previsões no conjunto de teste\n",
    "predictions = model.predict(X_test)"
   ]
  },
  {
   "cell_type": "code",
   "execution_count": null,
   "metadata": {},
   "outputs": [],
   "source": [
    "#transformando todos dados de entrada para um valor dimensionado entre 0 e 1\n",
    "#scaler = MinMaxScaler()\n",
    "#x_scaled = scaler.fit_transform(x)\n"
   ]
  },
  {
   "cell_type": "code",
   "execution_count": null,
   "metadata": {},
   "outputs": [],
   "source": [
    "x_train, x_test, y_train, y_test = train_test_split(x, y, test_size=0.3, random_state=42)"
   ]
  },
  {
   "cell_type": "code",
   "execution_count": null,
   "metadata": {},
   "outputs": [
    {
     "name": "stderr",
     "output_type": "stream",
     "text": [
      "/Users/monicaborges/Documents/modelo_sabesp/.venv/lib/python3.9/site-packages/numpy/core/_methods.py:176: RuntimeWarning: overflow encountered in multiply\n",
      "  x = um.multiply(x, x, out=x)\n",
      "/Users/monicaborges/Documents/modelo_sabesp/.venv/lib/python3.9/site-packages/numpy/core/_methods.py:187: RuntimeWarning: overflow encountered in reduce\n",
      "  ret = umr_sum(x, axis, dtype, out, keepdims=keepdims, where=where)\n"
     ]
    }
   ],
   "source": [
    "#Transformandopara variáveis não normais em uma distribuicão normal\n",
    "power_transformer = PowerTransformer(method='yeo-johnson', standardize=True) #método usado para variaveis negativas e positivas\n",
    "\n",
    "x_train_transformed = power_transformer.fit_transform(x_train)\n",
    "x_test_transformed = power_transformer.transform(x_test)\n",
    "\n",
    "y_train_transformed, lambda_value = boxcox(y_train + 1)  # Adicionando 1 para lidar com valores zero, se houver\n",
    "y_test_transformed, lambda_value = boxcox(y_test + 1)"
   ]
  },
  {
   "cell_type": "code",
   "execution_count": null,
   "metadata": {},
   "outputs": [
    {
     "data": {
      "text/html": [
       "<style>#sk-container-id-8 {color: black;}#sk-container-id-8 pre{padding: 0;}#sk-container-id-8 div.sk-toggleable {background-color: white;}#sk-container-id-8 label.sk-toggleable__label {cursor: pointer;display: block;width: 100%;margin-bottom: 0;padding: 0.3em;box-sizing: border-box;text-align: center;}#sk-container-id-8 label.sk-toggleable__label-arrow:before {content: \"▸\";float: left;margin-right: 0.25em;color: #696969;}#sk-container-id-8 label.sk-toggleable__label-arrow:hover:before {color: black;}#sk-container-id-8 div.sk-estimator:hover label.sk-toggleable__label-arrow:before {color: black;}#sk-container-id-8 div.sk-toggleable__content {max-height: 0;max-width: 0;overflow: hidden;text-align: left;background-color: #f0f8ff;}#sk-container-id-8 div.sk-toggleable__content pre {margin: 0.2em;color: black;border-radius: 0.25em;background-color: #f0f8ff;}#sk-container-id-8 input.sk-toggleable__control:checked~div.sk-toggleable__content {max-height: 200px;max-width: 100%;overflow: auto;}#sk-container-id-8 input.sk-toggleable__control:checked~label.sk-toggleable__label-arrow:before {content: \"▾\";}#sk-container-id-8 div.sk-estimator input.sk-toggleable__control:checked~label.sk-toggleable__label {background-color: #d4ebff;}#sk-container-id-8 div.sk-label input.sk-toggleable__control:checked~label.sk-toggleable__label {background-color: #d4ebff;}#sk-container-id-8 input.sk-hidden--visually {border: 0;clip: rect(1px 1px 1px 1px);clip: rect(1px, 1px, 1px, 1px);height: 1px;margin: -1px;overflow: hidden;padding: 0;position: absolute;width: 1px;}#sk-container-id-8 div.sk-estimator {font-family: monospace;background-color: #f0f8ff;border: 1px dotted black;border-radius: 0.25em;box-sizing: border-box;margin-bottom: 0.5em;}#sk-container-id-8 div.sk-estimator:hover {background-color: #d4ebff;}#sk-container-id-8 div.sk-parallel-item::after {content: \"\";width: 100%;border-bottom: 1px solid gray;flex-grow: 1;}#sk-container-id-8 div.sk-label:hover label.sk-toggleable__label {background-color: #d4ebff;}#sk-container-id-8 div.sk-serial::before {content: \"\";position: absolute;border-left: 1px solid gray;box-sizing: border-box;top: 0;bottom: 0;left: 50%;z-index: 0;}#sk-container-id-8 div.sk-serial {display: flex;flex-direction: column;align-items: center;background-color: white;padding-right: 0.2em;padding-left: 0.2em;position: relative;}#sk-container-id-8 div.sk-item {position: relative;z-index: 1;}#sk-container-id-8 div.sk-parallel {display: flex;align-items: stretch;justify-content: center;background-color: white;position: relative;}#sk-container-id-8 div.sk-item::before, #sk-container-id-8 div.sk-parallel-item::before {content: \"\";position: absolute;border-left: 1px solid gray;box-sizing: border-box;top: 0;bottom: 0;left: 50%;z-index: -1;}#sk-container-id-8 div.sk-parallel-item {display: flex;flex-direction: column;z-index: 1;position: relative;background-color: white;}#sk-container-id-8 div.sk-parallel-item:first-child::after {align-self: flex-end;width: 50%;}#sk-container-id-8 div.sk-parallel-item:last-child::after {align-self: flex-start;width: 50%;}#sk-container-id-8 div.sk-parallel-item:only-child::after {width: 0;}#sk-container-id-8 div.sk-dashed-wrapped {border: 1px dashed gray;margin: 0 0.4em 0.5em 0.4em;box-sizing: border-box;padding-bottom: 0.4em;background-color: white;}#sk-container-id-8 div.sk-label label {font-family: monospace;font-weight: bold;display: inline-block;line-height: 1.2em;}#sk-container-id-8 div.sk-label-container {text-align: center;}#sk-container-id-8 div.sk-container {/* jupyter's `normalize.less` sets `[hidden] { display: none; }` but bootstrap.min.css set `[hidden] { display: none !important; }` so we also need the `!important` here to be able to override the default hidden behavior on the sphinx rendered scikit-learn.org. See: https://github.com/scikit-learn/scikit-learn/issues/21755 */display: inline-block !important;position: relative;}#sk-container-id-8 div.sk-text-repr-fallback {display: none;}</style><div id=\"sk-container-id-8\" class=\"sk-top-container\"><div class=\"sk-text-repr-fallback\"><pre>LinearRegression()</pre><b>In a Jupyter environment, please rerun this cell to show the HTML representation or trust the notebook. <br />On GitHub, the HTML representation is unable to render, please try loading this page with nbviewer.org.</b></div><div class=\"sk-container\" hidden><div class=\"sk-item\"><div class=\"sk-estimator sk-toggleable\"><input class=\"sk-toggleable__control sk-hidden--visually\" id=\"sk-estimator-id-8\" type=\"checkbox\" checked><label for=\"sk-estimator-id-8\" class=\"sk-toggleable__label sk-toggleable__label-arrow\">LinearRegression</label><div class=\"sk-toggleable__content\"><pre>LinearRegression()</pre></div></div></div></div></div>"
      ],
      "text/plain": [
       "LinearRegression()"
      ]
     },
     "execution_count": 542,
     "metadata": {},
     "output_type": "execute_result"
    }
   ],
   "source": [
    "model = LinearRegression()\n",
    "model.fit(x_train_transformed, y_train_transformed)"
   ]
  },
  {
   "cell_type": "code",
   "execution_count": null,
   "metadata": {},
   "outputs": [],
   "source": [
    "y_pred = model.predict(x_test_transformed)"
   ]
  },
  {
   "cell_type": "code",
   "execution_count": null,
   "metadata": {},
   "outputs": [
    {
     "name": "stdout",
     "output_type": "stream",
     "text": [
      "RMSE após MinMaxScaler, PowerTransformer e treinamento do modelo: inf\n"
     ]
    },
    {
     "name": "stderr",
     "output_type": "stream",
     "text": [
      "/Users/monicaborges/Documents/modelo_sabesp/.venv/lib/python3.9/site-packages/numpy/core/_methods.py:118: RuntimeWarning: overflow encountered in reduce\n",
      "  ret = umr_sum(arr, axis, dtype, out, keepdims, where=where)\n"
     ]
    }
   ],
   "source": [
    "rmse = np.sqrt(mean_squared_error(y_test_transformed, y_pred))\n",
    "print(f'RMSE após MinMaxScaler, PowerTransformer e treinamento do modelo: {rmse}')"
   ]
  },
  {
   "cell_type": "code",
   "execution_count": null,
   "metadata": {},
   "outputs": [
    {
     "name": "stdout",
     "output_type": "stream",
     "text": [
      "                            OLS Regression Results                            \n",
      "==============================================================================\n",
      "Dep. Variable:                VrNivel   R-squared:                       0.997\n",
      "Model:                            OLS   Adj. R-squared:                  0.997\n",
      "Method:                 Least Squares   F-statistic:                 5.737e+04\n",
      "Date:                Fri, 10 Nov 2023   Prob (F-statistic):               0.00\n",
      "Time:                        18:59:18   Log-Likelihood:            -9.7119e+05\n",
      "No. Observations:                2779   AIC:                         1.942e+06\n",
      "Df Residuals:                    2763   BIC:                         1.942e+06\n",
      "Df Model:                          15                                         \n",
      "Covariance Type:            nonrobust                                         \n",
      "===================================================================================\n",
      "                      coef    std err          t      P>|t|      [0.025      0.975]\n",
      "-----------------------------------------------------------------------------------\n",
      "Intercept       1.323e+153  2.74e+149   4833.547      0.000   1.32e+153   1.32e+153\n",
      "AaAno           9.121e+149  3.74e+149      2.441      0.015   1.79e+149   1.64e+150\n",
      "MmMes           1.844e+150  3.28e+149      5.629      0.000    1.2e+150   2.49e+150\n",
      "DdDia          -4.344e+149  2.76e+149     -1.575      0.115  -9.75e+149   1.06e+149\n",
      "VlVolume        1.847e+159        inf          0      1.000        -inf         inf\n",
      "PcVolume       -1.847e+159        inf         -0      1.000        -inf         inf\n",
      "VzQJusante     -9.128e+149  3.41e+149     -2.675      0.008  -1.58e+150  -2.44e+149\n",
      "VzQNatural     -1.127e+150  4.01e+149     -2.809      0.005  -1.91e+150   -3.4e+149\n",
      "VrChuva         1.217e+149   2.9e+149      0.420      0.675  -4.47e+149    6.9e+149\n",
      "VrTempMin       8.253e+149  5.93e+149      1.391      0.164  -3.38e+149   1.99e+150\n",
      "VrTempMed       9.975e+149  3.64e+149      2.743      0.006   2.84e+149   1.71e+150\n",
      "VrTempMax       -2.74e+150  7.53e+149     -3.641      0.000  -4.22e+150  -1.26e+150\n",
      "VrUmidadeArMin  5.184e+151  4.09e+151      1.266      0.206  -2.84e+151   1.32e+152\n",
      "VrUmidadeArMed  -5.41e+151  4.11e+151     -1.315      0.189  -1.35e+152   2.66e+151\n",
      "VrUmidadeArMax  5.078e+150  3.99e+150      1.274      0.203  -2.74e+150   1.29e+151\n",
      "VrPrecipitacao  4.876e+149  3.13e+149      1.556      0.120  -1.27e+149    1.1e+150\n",
      "==============================================================================\n",
      "Omnibus:                          nan   Durbin-Watson:                   2.018\n",
      "Prob(Omnibus):                    nan   Jarque-Bera (JB):                  nan\n",
      "Skew:                             nan   Prob(JB):                          nan\n",
      "Kurtosis:                         nan   Cond. No.                     9.54e+09\n",
      "==============================================================================\n",
      "\n",
      "Notes:\n",
      "[1] Standard Errors assume that the covariance matrix of the errors is correctly specified.\n",
      "[2] The smallest eigenvalue is 1.06e-16. This might indicate that there are\n",
      "strong multicollinearity problems or that the design matrix is singular.\n"
     ]
    },
    {
     "name": "stderr",
     "output_type": "stream",
     "text": [
      "/Users/monicaborges/Documents/modelo_sabesp/.venv/lib/python3.9/site-packages/scipy/stats/_stats_py.py:1094: RuntimeWarning: overflow encountered in multiply\n",
      "  s *= a_zero_mean\n",
      "/Users/monicaborges/Documents/modelo_sabesp/.venv/lib/python3.9/site-packages/numpy/core/_methods.py:118: RuntimeWarning: invalid value encountered in reduce\n",
      "  ret = umr_sum(arr, axis, dtype, out, keepdims, where=where)\n",
      "/Users/monicaborges/Documents/modelo_sabesp/.venv/lib/python3.9/site-packages/scipy/stats/_stats_py.py:1092: RuntimeWarning: overflow encountered in square\n",
      "  s = s**2\n",
      "/Users/monicaborges/Documents/modelo_sabesp/.venv/lib/python3.9/site-packages/statsmodels/base/model.py:1529: RuntimeWarning: overflow encountered in multiply\n",
      "  cov_p = self.normalized_cov_params * scale\n"
     ]
    }
   ],
   "source": [
    "#modelo com todas variáveis\n",
    "model2_formula = 'VrNivel~AaAno+MmMes+DdDia+VlVolume+PcVolume+VzQJusante+VzQNatural+VrChuva+VrTempMin+VrTempMed+VrTempMax+VrUmidadeArMin+VrUmidadeArMed+VrUmidadeArMax+VrPrecipitacao+1'\n",
    "model2 = ols(formula=model2_formula, data=df_train_transformed).fit()\n",
    "print(model2.summary())\n",
    "#Explicacao:"
   ]
  },
  {
   "cell_type": "code",
   "execution_count": null,
   "metadata": {},
   "outputs": [],
   "source": [
    "linear_model = LinearRegression()"
   ]
  },
  {
   "cell_type": "code",
   "execution_count": null,
   "metadata": {},
   "outputs": [
    {
     "data": {
      "text/html": [
       "<style>#sk-container-id-6 {color: black;}#sk-container-id-6 pre{padding: 0;}#sk-container-id-6 div.sk-toggleable {background-color: white;}#sk-container-id-6 label.sk-toggleable__label {cursor: pointer;display: block;width: 100%;margin-bottom: 0;padding: 0.3em;box-sizing: border-box;text-align: center;}#sk-container-id-6 label.sk-toggleable__label-arrow:before {content: \"▸\";float: left;margin-right: 0.25em;color: #696969;}#sk-container-id-6 label.sk-toggleable__label-arrow:hover:before {color: black;}#sk-container-id-6 div.sk-estimator:hover label.sk-toggleable__label-arrow:before {color: black;}#sk-container-id-6 div.sk-toggleable__content {max-height: 0;max-width: 0;overflow: hidden;text-align: left;background-color: #f0f8ff;}#sk-container-id-6 div.sk-toggleable__content pre {margin: 0.2em;color: black;border-radius: 0.25em;background-color: #f0f8ff;}#sk-container-id-6 input.sk-toggleable__control:checked~div.sk-toggleable__content {max-height: 200px;max-width: 100%;overflow: auto;}#sk-container-id-6 input.sk-toggleable__control:checked~label.sk-toggleable__label-arrow:before {content: \"▾\";}#sk-container-id-6 div.sk-estimator input.sk-toggleable__control:checked~label.sk-toggleable__label {background-color: #d4ebff;}#sk-container-id-6 div.sk-label input.sk-toggleable__control:checked~label.sk-toggleable__label {background-color: #d4ebff;}#sk-container-id-6 input.sk-hidden--visually {border: 0;clip: rect(1px 1px 1px 1px);clip: rect(1px, 1px, 1px, 1px);height: 1px;margin: -1px;overflow: hidden;padding: 0;position: absolute;width: 1px;}#sk-container-id-6 div.sk-estimator {font-family: monospace;background-color: #f0f8ff;border: 1px dotted black;border-radius: 0.25em;box-sizing: border-box;margin-bottom: 0.5em;}#sk-container-id-6 div.sk-estimator:hover {background-color: #d4ebff;}#sk-container-id-6 div.sk-parallel-item::after {content: \"\";width: 100%;border-bottom: 1px solid gray;flex-grow: 1;}#sk-container-id-6 div.sk-label:hover label.sk-toggleable__label {background-color: #d4ebff;}#sk-container-id-6 div.sk-serial::before {content: \"\";position: absolute;border-left: 1px solid gray;box-sizing: border-box;top: 0;bottom: 0;left: 50%;z-index: 0;}#sk-container-id-6 div.sk-serial {display: flex;flex-direction: column;align-items: center;background-color: white;padding-right: 0.2em;padding-left: 0.2em;position: relative;}#sk-container-id-6 div.sk-item {position: relative;z-index: 1;}#sk-container-id-6 div.sk-parallel {display: flex;align-items: stretch;justify-content: center;background-color: white;position: relative;}#sk-container-id-6 div.sk-item::before, #sk-container-id-6 div.sk-parallel-item::before {content: \"\";position: absolute;border-left: 1px solid gray;box-sizing: border-box;top: 0;bottom: 0;left: 50%;z-index: -1;}#sk-container-id-6 div.sk-parallel-item {display: flex;flex-direction: column;z-index: 1;position: relative;background-color: white;}#sk-container-id-6 div.sk-parallel-item:first-child::after {align-self: flex-end;width: 50%;}#sk-container-id-6 div.sk-parallel-item:last-child::after {align-self: flex-start;width: 50%;}#sk-container-id-6 div.sk-parallel-item:only-child::after {width: 0;}#sk-container-id-6 div.sk-dashed-wrapped {border: 1px dashed gray;margin: 0 0.4em 0.5em 0.4em;box-sizing: border-box;padding-bottom: 0.4em;background-color: white;}#sk-container-id-6 div.sk-label label {font-family: monospace;font-weight: bold;display: inline-block;line-height: 1.2em;}#sk-container-id-6 div.sk-label-container {text-align: center;}#sk-container-id-6 div.sk-container {/* jupyter's `normalize.less` sets `[hidden] { display: none; }` but bootstrap.min.css set `[hidden] { display: none !important; }` so we also need the `!important` here to be able to override the default hidden behavior on the sphinx rendered scikit-learn.org. See: https://github.com/scikit-learn/scikit-learn/issues/21755 */display: inline-block !important;position: relative;}#sk-container-id-6 div.sk-text-repr-fallback {display: none;}</style><div id=\"sk-container-id-6\" class=\"sk-top-container\"><div class=\"sk-text-repr-fallback\"><pre>LinearRegression()</pre><b>In a Jupyter environment, please rerun this cell to show the HTML representation or trust the notebook. <br />On GitHub, the HTML representation is unable to render, please try loading this page with nbviewer.org.</b></div><div class=\"sk-container\" hidden><div class=\"sk-item\"><div class=\"sk-estimator sk-toggleable\"><input class=\"sk-toggleable__control sk-hidden--visually\" id=\"sk-estimator-id-6\" type=\"checkbox\" checked><label for=\"sk-estimator-id-6\" class=\"sk-toggleable__label sk-toggleable__label-arrow\">LinearRegression</label><div class=\"sk-toggleable__content\"><pre>LinearRegression()</pre></div></div></div></div></div>"
      ],
      "text/plain": [
       "LinearRegression()"
      ]
     },
     "execution_count": 428,
     "metadata": {},
     "output_type": "execute_result"
    }
   ],
   "source": [
    "linear_model.fit(x_train_transformed, y_train_transformed)"
   ]
  },
  {
   "cell_type": "code",
   "execution_count": null,
   "metadata": {},
   "outputs": [],
   "source": [
    "y_pred = linear_model.predict(x_test_transformed)"
   ]
  },
  {
   "cell_type": "code",
   "execution_count": null,
   "metadata": {},
   "outputs": [
    {
     "data": {
      "text/html": [
       "<div>\n",
       "<style scoped>\n",
       "    .dataframe tbody tr th:only-of-type {\n",
       "        vertical-align: middle;\n",
       "    }\n",
       "\n",
       "    .dataframe tbody tr th {\n",
       "        vertical-align: top;\n",
       "    }\n",
       "\n",
       "    .dataframe thead th {\n",
       "        text-align: right;\n",
       "    }\n",
       "</style>\n",
       "<table border=\"1\" class=\"dataframe\">\n",
       "  <thead>\n",
       "    <tr style=\"text-align: right;\">\n",
       "      <th></th>\n",
       "      <th>AaAno</th>\n",
       "      <th>MmMes</th>\n",
       "      <th>DdDia</th>\n",
       "      <th>VlVolume</th>\n",
       "      <th>PcVolume</th>\n",
       "      <th>VzQJusante</th>\n",
       "      <th>VzQNatural</th>\n",
       "      <th>VrChuva</th>\n",
       "      <th>VrTempMin</th>\n",
       "      <th>VrTempMed</th>\n",
       "      <th>VrTempMax</th>\n",
       "      <th>VrUmidadeArMin</th>\n",
       "      <th>VrUmidadeArMed</th>\n",
       "      <th>VrUmidadeArMax</th>\n",
       "      <th>VrPrecipitacao</th>\n",
       "    </tr>\n",
       "  </thead>\n",
       "  <tbody>\n",
       "    <tr>\n",
       "      <th>0</th>\n",
       "      <td>0.279320</td>\n",
       "      <td>0.946944</td>\n",
       "      <td>-0.407200</td>\n",
       "      <td>-0.088926</td>\n",
       "      <td>-0.088926</td>\n",
       "      <td>1.266194</td>\n",
       "      <td>-0.168101</td>\n",
       "      <td>-0.497898</td>\n",
       "      <td>-0.129870</td>\n",
       "      <td>-0.527376</td>\n",
       "      <td>-0.255665</td>\n",
       "      <td>-0.445027</td>\n",
       "      <td>-0.421167</td>\n",
       "      <td>0.267269</td>\n",
       "      <td>-1.021685</td>\n",
       "    </tr>\n",
       "    <tr>\n",
       "      <th>1</th>\n",
       "      <td>-1.203069</td>\n",
       "      <td>0.946944</td>\n",
       "      <td>0.987889</td>\n",
       "      <td>-1.973032</td>\n",
       "      <td>-1.973032</td>\n",
       "      <td>-1.435008</td>\n",
       "      <td>-1.574251</td>\n",
       "      <td>1.653947</td>\n",
       "      <td>-0.076750</td>\n",
       "      <td>0.543498</td>\n",
       "      <td>-0.018522</td>\n",
       "      <td>-0.023900</td>\n",
       "      <td>-0.026058</td>\n",
       "      <td>0.019062</td>\n",
       "      <td>0.509158</td>\n",
       "    </tr>\n",
       "    <tr>\n",
       "      <th>2</th>\n",
       "      <td>0.138916</td>\n",
       "      <td>0.946944</td>\n",
       "      <td>-1.210954</td>\n",
       "      <td>-1.469605</td>\n",
       "      <td>-1.469605</td>\n",
       "      <td>0.758077</td>\n",
       "      <td>-0.957705</td>\n",
       "      <td>-0.497898</td>\n",
       "      <td>1.154496</td>\n",
       "      <td>0.215993</td>\n",
       "      <td>0.509325</td>\n",
       "      <td>0.472021</td>\n",
       "      <td>0.376754</td>\n",
       "      <td>-0.971078</td>\n",
       "      <td>-1.021685</td>\n",
       "    </tr>\n",
       "    <tr>\n",
       "      <th>3</th>\n",
       "      <td>-0.146598</td>\n",
       "      <td>0.222806</td>\n",
       "      <td>-0.075113</td>\n",
       "      <td>1.183704</td>\n",
       "      <td>1.183704</td>\n",
       "      <td>1.614112</td>\n",
       "      <td>0.733680</td>\n",
       "      <td>-0.497898</td>\n",
       "      <td>-1.380710</td>\n",
       "      <td>-3.297196</td>\n",
       "      <td>-3.066806</td>\n",
       "      <td>2.168609</td>\n",
       "      <td>1.895986</td>\n",
       "      <td>-3.242989</td>\n",
       "      <td>-1.021685</td>\n",
       "    </tr>\n",
       "    <tr>\n",
       "      <th>4</th>\n",
       "      <td>-0.891143</td>\n",
       "      <td>-0.124915</td>\n",
       "      <td>0.142644</td>\n",
       "      <td>0.488825</td>\n",
       "      <td>0.488825</td>\n",
       "      <td>-0.379212</td>\n",
       "      <td>-0.808378</td>\n",
       "      <td>-0.497898</td>\n",
       "      <td>-0.076750</td>\n",
       "      <td>0.543498</td>\n",
       "      <td>-0.018522</td>\n",
       "      <td>-0.023900</td>\n",
       "      <td>-0.026058</td>\n",
       "      <td>0.019062</td>\n",
       "      <td>0.509158</td>\n",
       "    </tr>\n",
       "    <tr>\n",
       "      <th>...</th>\n",
       "      <td>...</td>\n",
       "      <td>...</td>\n",
       "      <td>...</td>\n",
       "      <td>...</td>\n",
       "      <td>...</td>\n",
       "      <td>...</td>\n",
       "      <td>...</td>\n",
       "      <td>...</td>\n",
       "      <td>...</td>\n",
       "      <td>...</td>\n",
       "      <td>...</td>\n",
       "      <td>...</td>\n",
       "      <td>...</td>\n",
       "      <td>...</td>\n",
       "      <td>...</td>\n",
       "    </tr>\n",
       "    <tr>\n",
       "      <th>1187</th>\n",
       "      <td>0.279320</td>\n",
       "      <td>-1.413164</td>\n",
       "      <td>-0.861145</td>\n",
       "      <td>0.914977</td>\n",
       "      <td>0.914977</td>\n",
       "      <td>-0.680316</td>\n",
       "      <td>1.078919</td>\n",
       "      <td>-0.497898</td>\n",
       "      <td>1.937867</td>\n",
       "      <td>0.619415</td>\n",
       "      <td>1.134139</td>\n",
       "      <td>1.048788</td>\n",
       "      <td>1.039654</td>\n",
       "      <td>-0.058568</td>\n",
       "      <td>1.682406</td>\n",
       "    </tr>\n",
       "    <tr>\n",
       "      <th>1188</th>\n",
       "      <td>0.826588</td>\n",
       "      <td>0.580179</td>\n",
       "      <td>0.675464</td>\n",
       "      <td>-1.228641</td>\n",
       "      <td>-1.228641</td>\n",
       "      <td>-0.461236</td>\n",
       "      <td>-0.906620</td>\n",
       "      <td>-0.497898</td>\n",
       "      <td>-0.282853</td>\n",
       "      <td>0.121988</td>\n",
       "      <td>1.536524</td>\n",
       "      <td>-1.537442</td>\n",
       "      <td>-1.687811</td>\n",
       "      <td>-1.565522</td>\n",
       "      <td>-1.021685</td>\n",
       "    </tr>\n",
       "    <tr>\n",
       "      <th>1189</th>\n",
       "      <td>-1.362476</td>\n",
       "      <td>0.580179</td>\n",
       "      <td>0.034115</td>\n",
       "      <td>-1.017766</td>\n",
       "      <td>-1.017766</td>\n",
       "      <td>-1.185263</td>\n",
       "      <td>-0.911100</td>\n",
       "      <td>1.954771</td>\n",
       "      <td>-0.076750</td>\n",
       "      <td>0.543498</td>\n",
       "      <td>-0.018522</td>\n",
       "      <td>-0.023900</td>\n",
       "      <td>-0.026058</td>\n",
       "      <td>0.019062</td>\n",
       "      <td>0.509158</td>\n",
       "    </tr>\n",
       "    <tr>\n",
       "      <th>1190</th>\n",
       "      <td>-1.688830</td>\n",
       "      <td>1.322859</td>\n",
       "      <td>-1.093397</td>\n",
       "      <td>-1.237678</td>\n",
       "      <td>-1.237678</td>\n",
       "      <td>-0.830669</td>\n",
       "      <td>-1.046600</td>\n",
       "      <td>2.166602</td>\n",
       "      <td>-0.076750</td>\n",
       "      <td>0.543498</td>\n",
       "      <td>-0.018522</td>\n",
       "      <td>-0.023900</td>\n",
       "      <td>-0.026058</td>\n",
       "      <td>0.019062</td>\n",
       "      <td>0.509158</td>\n",
       "    </tr>\n",
       "    <tr>\n",
       "      <th>1191</th>\n",
       "      <td>0.691819</td>\n",
       "      <td>1.707700</td>\n",
       "      <td>-1.093397</td>\n",
       "      <td>-0.182244</td>\n",
       "      <td>-0.182244</td>\n",
       "      <td>1.867399</td>\n",
       "      <td>1.106475</td>\n",
       "      <td>-0.497898</td>\n",
       "      <td>-0.627731</td>\n",
       "      <td>-0.506169</td>\n",
       "      <td>0.234884</td>\n",
       "      <td>0.340355</td>\n",
       "      <td>0.252461</td>\n",
       "      <td>-0.887067</td>\n",
       "      <td>-1.021685</td>\n",
       "    </tr>\n",
       "  </tbody>\n",
       "</table>\n",
       "<p>1192 rows × 15 columns</p>\n",
       "</div>"
      ],
      "text/plain": [
       "         AaAno     MmMes     DdDia  VlVolume  PcVolume  VzQJusante  \\\n",
       "0     0.279320  0.946944 -0.407200 -0.088926 -0.088926    1.266194   \n",
       "1    -1.203069  0.946944  0.987889 -1.973032 -1.973032   -1.435008   \n",
       "2     0.138916  0.946944 -1.210954 -1.469605 -1.469605    0.758077   \n",
       "3    -0.146598  0.222806 -0.075113  1.183704  1.183704    1.614112   \n",
       "4    -0.891143 -0.124915  0.142644  0.488825  0.488825   -0.379212   \n",
       "...        ...       ...       ...       ...       ...         ...   \n",
       "1187  0.279320 -1.413164 -0.861145  0.914977  0.914977   -0.680316   \n",
       "1188  0.826588  0.580179  0.675464 -1.228641 -1.228641   -0.461236   \n",
       "1189 -1.362476  0.580179  0.034115 -1.017766 -1.017766   -1.185263   \n",
       "1190 -1.688830  1.322859 -1.093397 -1.237678 -1.237678   -0.830669   \n",
       "1191  0.691819  1.707700 -1.093397 -0.182244 -0.182244    1.867399   \n",
       "\n",
       "      VzQNatural   VrChuva  VrTempMin  VrTempMed  VrTempMax  VrUmidadeArMin  \\\n",
       "0      -0.168101 -0.497898  -0.129870  -0.527376  -0.255665       -0.445027   \n",
       "1      -1.574251  1.653947  -0.076750   0.543498  -0.018522       -0.023900   \n",
       "2      -0.957705 -0.497898   1.154496   0.215993   0.509325        0.472021   \n",
       "3       0.733680 -0.497898  -1.380710  -3.297196  -3.066806        2.168609   \n",
       "4      -0.808378 -0.497898  -0.076750   0.543498  -0.018522       -0.023900   \n",
       "...          ...       ...        ...        ...        ...             ...   \n",
       "1187    1.078919 -0.497898   1.937867   0.619415   1.134139        1.048788   \n",
       "1188   -0.906620 -0.497898  -0.282853   0.121988   1.536524       -1.537442   \n",
       "1189   -0.911100  1.954771  -0.076750   0.543498  -0.018522       -0.023900   \n",
       "1190   -1.046600  2.166602  -0.076750   0.543498  -0.018522       -0.023900   \n",
       "1191    1.106475 -0.497898  -0.627731  -0.506169   0.234884        0.340355   \n",
       "\n",
       "      VrUmidadeArMed  VrUmidadeArMax  VrPrecipitacao  \n",
       "0          -0.421167        0.267269       -1.021685  \n",
       "1          -0.026058        0.019062        0.509158  \n",
       "2           0.376754       -0.971078       -1.021685  \n",
       "3           1.895986       -3.242989       -1.021685  \n",
       "4          -0.026058        0.019062        0.509158  \n",
       "...              ...             ...             ...  \n",
       "1187        1.039654       -0.058568        1.682406  \n",
       "1188       -1.687811       -1.565522       -1.021685  \n",
       "1189       -0.026058        0.019062        0.509158  \n",
       "1190       -0.026058        0.019062        0.509158  \n",
       "1191        0.252461       -0.887067       -1.021685  \n",
       "\n",
       "[1192 rows x 15 columns]"
      ]
     },
     "execution_count": 430,
     "metadata": {},
     "output_type": "execute_result"
    }
   ],
   "source": [
    "df_test_transformed"
   ]
  },
  {
   "cell_type": "code",
   "execution_count": null,
   "metadata": {},
   "outputs": [],
   "source": [
    "rmse = mean_squared_error(y_test_transformed, y_pred, squared=False)\n",
    "r2 = r2_score(y_test_transformed, y_pred)\n",
    "print(f'RMSE: {rmse}')\n",
    "print(f'R²: {r2}')"
   ]
  },
  {
   "cell_type": "code",
   "execution_count": null,
   "metadata": {},
   "outputs": [],
   "source": [
    "def stepwise_selection(X, y, initial_list=[], threshold_in=0.05, threshold_out=0.05, verbose=True):\n",
    "    included = list(initial_list)\n",
    "    while True:\n",
    "        changed = False\n",
    "        # Adicione variáveis com p-value abaixo do limiar de entrada\n",
    "        excluded = list(set(X.columns) - set(included))\n",
    "        new_pval = pd.Series(index=excluded, dtype=float)\n",
    "        for new_column in excluded:\n",
    "            model = sm.OLS(y, sm.add_constant(pd.DataFrame(X[included + [new_column]]))).fit()\n",
    "            new_pval[new_column] = model.pvalues[new_column]\n",
    "        best_pval = new_pval.min()\n",
    "        if best_pval < threshold_in:\n",
    "            best_feature = new_pval.idxmin()\n",
    "            included.append(best_feature)\n",
    "            changed = True\n",
    "            if verbose:\n",
    "                print(f'Adicionando {best_feature} com p-value {best_pval}')\n",
    "        \n",
    "        # Remova variáveis com p-value acima do limiar de saída\n",
    "        model = sm.OLS(y, sm.add_constant(pd.DataFrame(X[included]))).fit()\n",
    "        pvalues = model.pvalues.iloc[1:]\n",
    "        worst_pval = pvalues.max()\n",
    "        if worst_pval > threshold_out:\n",
    "            changed = True\n",
    "            worst_feature = pvalues.idxmax()\n",
    "            included.remove(worst_feature)\n",
    "            if verbose:\n",
    "                print(f'Removendo {worst_feature} com p-value {worst_pval}')\n",
    "        \n",
    "        if not changed:\n",
    "            break\n",
    "    return included"
   ]
  },
  {
   "cell_type": "code",
   "execution_count": null,
   "metadata": {},
   "outputs": [
    {
     "name": "stdout",
     "output_type": "stream",
     "text": [
      "Adicionando VlVolume com p-value 0.0\n",
      "Adicionando MmMes com p-value 2.866774113245573e-11\n",
      "Adicionando VzQJusante com p-value 7.624862851261391e-09\n",
      "Adicionando VzQNatural com p-value 0.0009730413282467196\n"
     ]
    }
   ],
   "source": [
    "selected_features = stepwise_selection(pd.DataFrame(x_train_transformed, columns=x_train.columns), y_train_transformed)"
   ]
  },
  {
   "cell_type": "code",
   "execution_count": null,
   "metadata": {},
   "outputs": [
    {
     "name": "stdout",
     "output_type": "stream",
     "text": [
      "0:\tlearn: 6.6856213\ttotal: 816ms\tremaining: 1m 20s\n",
      "1:\tlearn: 6.6558597\ttotal: 1.52s\tremaining: 1m 14s\n",
      "2:\tlearn: 6.6168105\ttotal: 2.21s\tremaining: 1m 11s\n",
      "3:\tlearn: 6.5876504\ttotal: 2.9s\tremaining: 1m 9s\n",
      "4:\tlearn: 6.5570033\ttotal: 3.6s\tremaining: 1m 8s\n",
      "5:\tlearn: 6.5313269\ttotal: 4.29s\tremaining: 1m 7s\n",
      "6:\tlearn: 6.5013383\ttotal: 4.93s\tremaining: 1m 5s\n",
      "7:\tlearn: 6.4802127\ttotal: 5.63s\tremaining: 1m 4s\n",
      "8:\tlearn: 6.4536022\ttotal: 6.31s\tremaining: 1m 3s\n",
      "9:\tlearn: 6.4284758\ttotal: 6.96s\tremaining: 1m 2s\n",
      "10:\tlearn: 6.4040502\ttotal: 7.58s\tremaining: 1m 1s\n",
      "11:\tlearn: 6.3798797\ttotal: 8.27s\tremaining: 1m\n",
      "12:\tlearn: 6.3580734\ttotal: 8.95s\tremaining: 59.9s\n",
      "13:\tlearn: 6.3327441\ttotal: 9.64s\tremaining: 59.2s\n",
      "14:\tlearn: 6.3052306\ttotal: 10.3s\tremaining: 58.6s\n",
      "15:\tlearn: 6.2781624\ttotal: 11s\tremaining: 57.9s\n",
      "16:\tlearn: 6.2527306\ttotal: 11.7s\tremaining: 57.3s\n",
      "17:\tlearn: 6.2271902\ttotal: 12.4s\tremaining: 56.5s\n",
      "18:\tlearn: 6.2041930\ttotal: 13.1s\tremaining: 55.9s\n",
      "19:\tlearn: 6.1824849\ttotal: 13.8s\tremaining: 55.2s\n",
      "20:\tlearn: 6.1591005\ttotal: 14.5s\tremaining: 54.6s\n",
      "21:\tlearn: 6.1359428\ttotal: 15.2s\tremaining: 53.9s\n",
      "22:\tlearn: 6.1111123\ttotal: 15.9s\tremaining: 53.2s\n",
      "23:\tlearn: 6.0974957\ttotal: 16.6s\tremaining: 52.5s\n",
      "24:\tlearn: 6.0743540\ttotal: 17.3s\tremaining: 51.8s\n",
      "25:\tlearn: 6.0553895\ttotal: 18s\tremaining: 51.1s\n",
      "26:\tlearn: 6.0409022\ttotal: 18.6s\tremaining: 50.4s\n",
      "27:\tlearn: 6.0217096\ttotal: 19.3s\tremaining: 49.7s\n",
      "28:\tlearn: 6.0072593\ttotal: 20s\tremaining: 49s\n",
      "29:\tlearn: 5.9947012\ttotal: 20.7s\tremaining: 48.2s\n",
      "30:\tlearn: 5.9770853\ttotal: 21.4s\tremaining: 47.6s\n",
      "31:\tlearn: 5.9614238\ttotal: 22.1s\tremaining: 46.9s\n",
      "32:\tlearn: 5.9417946\ttotal: 22.8s\tremaining: 46.2s\n",
      "33:\tlearn: 5.9258381\ttotal: 23.4s\tremaining: 45.5s\n",
      "34:\tlearn: 5.9090423\ttotal: 24.1s\tremaining: 44.8s\n",
      "35:\tlearn: 5.8904633\ttotal: 24.8s\tremaining: 44.2s\n",
      "36:\tlearn: 5.8808383\ttotal: 25.5s\tremaining: 43.5s\n",
      "37:\tlearn: 5.8631376\ttotal: 26.2s\tremaining: 42.8s\n",
      "38:\tlearn: 5.8556711\ttotal: 26.9s\tremaining: 42.1s\n",
      "39:\tlearn: 5.8334320\ttotal: 27.6s\tremaining: 41.4s\n",
      "40:\tlearn: 5.8155348\ttotal: 28.3s\tremaining: 40.7s\n",
      "41:\tlearn: 5.7910066\ttotal: 29s\tremaining: 40s\n",
      "42:\tlearn: 5.7754212\ttotal: 29.7s\tremaining: 39.3s\n",
      "43:\tlearn: 5.7672916\ttotal: 30.3s\tremaining: 38.6s\n",
      "44:\tlearn: 5.7545114\ttotal: 31s\tremaining: 37.9s\n",
      "45:\tlearn: 5.7464235\ttotal: 31.7s\tremaining: 37.2s\n",
      "46:\tlearn: 5.7308426\ttotal: 32.4s\tremaining: 36.6s\n",
      "47:\tlearn: 5.7173973\ttotal: 33.1s\tremaining: 35.9s\n",
      "48:\tlearn: 5.7003267\ttotal: 33.8s\tremaining: 35.2s\n",
      "49:\tlearn: 5.6873034\ttotal: 34.5s\tremaining: 34.5s\n",
      "50:\tlearn: 5.6774696\ttotal: 35.2s\tremaining: 33.8s\n",
      "51:\tlearn: 5.6622605\ttotal: 35.9s\tremaining: 33.1s\n",
      "52:\tlearn: 5.6451707\ttotal: 36.6s\tremaining: 32.5s\n",
      "53:\tlearn: 5.6282135\ttotal: 37.3s\tremaining: 31.8s\n",
      "54:\tlearn: 5.6116154\ttotal: 37.9s\tremaining: 31s\n",
      "55:\tlearn: 5.5970679\ttotal: 38.6s\tremaining: 30.3s\n",
      "56:\tlearn: 5.5844074\ttotal: 39.3s\tremaining: 29.6s\n",
      "57:\tlearn: 5.5619186\ttotal: 40s\tremaining: 29s\n",
      "58:\tlearn: 5.5406883\ttotal: 40.7s\tremaining: 28.3s\n",
      "59:\tlearn: 5.5294098\ttotal: 41.4s\tremaining: 27.6s\n",
      "60:\tlearn: 5.5202165\ttotal: 42s\tremaining: 26.9s\n",
      "61:\tlearn: 5.5048544\ttotal: 42.7s\tremaining: 26.2s\n",
      "62:\tlearn: 5.4940456\ttotal: 43.4s\tremaining: 25.5s\n",
      "63:\tlearn: 5.4838595\ttotal: 44.1s\tremaining: 24.8s\n",
      "64:\tlearn: 5.4739623\ttotal: 44.7s\tremaining: 24.1s\n",
      "65:\tlearn: 5.4631020\ttotal: 45.4s\tremaining: 23.4s\n",
      "66:\tlearn: 5.4511787\ttotal: 46.1s\tremaining: 22.7s\n",
      "67:\tlearn: 5.4393991\ttotal: 46.8s\tremaining: 22s\n",
      "68:\tlearn: 5.4312321\ttotal: 47.5s\tremaining: 21.3s\n",
      "69:\tlearn: 5.4199795\ttotal: 48.2s\tremaining: 20.6s\n",
      "70:\tlearn: 5.4085995\ttotal: 48.8s\tremaining: 19.9s\n",
      "71:\tlearn: 5.3979868\ttotal: 49.5s\tremaining: 19.3s\n",
      "72:\tlearn: 5.3869905\ttotal: 50.2s\tremaining: 18.6s\n",
      "73:\tlearn: 5.3823443\ttotal: 50.9s\tremaining: 17.9s\n",
      "74:\tlearn: 5.3692054\ttotal: 51.5s\tremaining: 17.2s\n",
      "75:\tlearn: 5.3625757\ttotal: 52.2s\tremaining: 16.5s\n",
      "76:\tlearn: 5.3520488\ttotal: 53s\tremaining: 15.8s\n",
      "77:\tlearn: 5.3369595\ttotal: 53.6s\tremaining: 15.1s\n",
      "78:\tlearn: 5.3265723\ttotal: 54.3s\tremaining: 14.4s\n",
      "79:\tlearn: 5.3128458\ttotal: 55s\tremaining: 13.8s\n",
      "80:\tlearn: 5.2948051\ttotal: 55.7s\tremaining: 13.1s\n",
      "81:\tlearn: 5.2872983\ttotal: 56.4s\tremaining: 12.4s\n",
      "82:\tlearn: 5.2756107\ttotal: 57.1s\tremaining: 11.7s\n",
      "83:\tlearn: 5.2695253\ttotal: 57.8s\tremaining: 11s\n",
      "84:\tlearn: 5.2591145\ttotal: 58.5s\tremaining: 10.3s\n",
      "85:\tlearn: 5.2461428\ttotal: 59.2s\tremaining: 9.64s\n",
      "86:\tlearn: 5.2318045\ttotal: 59.9s\tremaining: 8.95s\n",
      "87:\tlearn: 5.2204310\ttotal: 1m\tremaining: 8.26s\n",
      "88:\tlearn: 5.2060460\ttotal: 1m 1s\tremaining: 7.57s\n",
      "89:\tlearn: 5.1930935\ttotal: 1m 1s\tremaining: 6.88s\n",
      "90:\tlearn: 5.1808385\ttotal: 1m 2s\tremaining: 6.2s\n",
      "91:\tlearn: 5.1703065\ttotal: 1m 3s\tremaining: 5.51s\n",
      "92:\tlearn: 5.1647050\ttotal: 1m 4s\tremaining: 4.82s\n",
      "93:\tlearn: 5.1583927\ttotal: 1m 4s\tremaining: 4.13s\n",
      "94:\tlearn: 5.1509069\ttotal: 1m 5s\tremaining: 3.44s\n",
      "95:\tlearn: 5.1460492\ttotal: 1m 6s\tremaining: 2.75s\n",
      "96:\tlearn: 5.1359113\ttotal: 1m 6s\tremaining: 2.06s\n",
      "97:\tlearn: 5.1266644\ttotal: 1m 7s\tremaining: 1.37s\n",
      "98:\tlearn: 5.1167062\ttotal: 1m 8s\tremaining: 687ms\n",
      "99:\tlearn: 5.1103361\ttotal: 1m 8s\tremaining: 0us\n",
      "RMSE do modelo: 2.2977301936549943\n",
      "R² do modelo: 0.004163520898173845\n"
     ]
    }
   ],
   "source": [
    "model = catboost.CatBoostClassifier(iterations=100, depth=3, learning_rate=0.1, loss_function='MultiClass')\n",
    "\n",
    "# Treinar o modelo\n",
    "model.fit(x_train, y_train)\n",
    "\n",
    "# Fazer previsões no conjunto de teste\n",
    "predictions = model.predict(x_test)\n",
    "\n",
    "rmse = np.sqrt(mean_squared_error(y_test, predictions))\n",
    "print(f'RMSE do modelo: {rmse}')\n",
    "\n",
    "# Calcular o R²\n",
    "r2 = r2_score(y_test, predictions)\n",
    "print(f'R² do modelo: {r2}')"
   ]
  },
  {
   "cell_type": "code",
   "execution_count": null,
   "metadata": {},
   "outputs": [],
   "source": [
    "rmse = sqrt(mean_squared_error(y_test_transformed, y_pred_transformed))\n",
    "print(rmse)"
   ]
  },
  {
   "attachments": {},
   "cell_type": "markdown",
   "metadata": {},
   "source": [
    "##### Dividindo dados"
   ]
  },
  {
   "attachments": {},
   "cell_type": "markdown",
   "metadata": {},
   "source": [
    "##### modelo base: Média"
   ]
  },
  {
   "cell_type": "code",
   "execution_count": null,
   "metadata": {},
   "outputs": [
    {
     "data": {
      "text/plain": [
       "636.7989790834395"
      ]
     },
     "execution_count": 162,
     "metadata": {},
     "output_type": "execute_result"
    }
   ],
   "source": [
    "modelo_media_mse = statistics.mean((transformed_df['VrNivel'] - statistics.mean(df['VrNivel']))**2)\n",
    "modelo_media_rmse = math.sqrt(modelo_media_mse)\n",
    "modelo_media_rmse"
   ]
  },
  {
   "cell_type": "code",
   "execution_count": null,
   "metadata": {},
   "outputs": [
    {
     "data": {
      "text/html": [
       "<div>\n",
       "<style scoped>\n",
       "    .dataframe tbody tr th:only-of-type {\n",
       "        vertical-align: middle;\n",
       "    }\n",
       "\n",
       "    .dataframe tbody tr th {\n",
       "        vertical-align: top;\n",
       "    }\n",
       "\n",
       "    .dataframe thead th {\n",
       "        text-align: right;\n",
       "    }\n",
       "</style>\n",
       "<table border=\"1\" class=\"dataframe\">\n",
       "  <thead>\n",
       "    <tr style=\"text-align: right;\">\n",
       "      <th></th>\n",
       "      <th>VrNivel</th>\n",
       "      <th>VlVolumeHm</th>\n",
       "      <th>PcVolume%</th>\n",
       "      <th>VzQJusante</th>\n",
       "      <th>VzQNatural</th>\n",
       "      <th>VrChuva</th>\n",
       "      <th>DdDia</th>\n",
       "      <th>MmMes</th>\n",
       "      <th>AaAno</th>\n",
       "    </tr>\n",
       "  </thead>\n",
       "  <tbody>\n",
       "    <tr>\n",
       "      <th>0</th>\n",
       "      <td>0.820028</td>\n",
       "      <td>0.820246</td>\n",
       "      <td>0.820266</td>\n",
       "      <td>-0.171502</td>\n",
       "      <td>0.822810</td>\n",
       "      <td>0.130169</td>\n",
       "      <td>-1.888092</td>\n",
       "      <td>0.121252</td>\n",
       "      <td>1.720968</td>\n",
       "    </tr>\n",
       "    <tr>\n",
       "      <th>1</th>\n",
       "      <td>0.801558</td>\n",
       "      <td>0.800041</td>\n",
       "      <td>0.800064</td>\n",
       "      <td>-0.165419</td>\n",
       "      <td>0.176938</td>\n",
       "      <td>1.758223</td>\n",
       "      <td>1.491752</td>\n",
       "      <td>-0.194375</td>\n",
       "      <td>1.720968</td>\n",
       "    </tr>\n",
       "    <tr>\n",
       "      <th>2</th>\n",
       "      <td>0.807709</td>\n",
       "      <td>0.806768</td>\n",
       "      <td>0.806789</td>\n",
       "      <td>-0.227052</td>\n",
       "      <td>-0.272272</td>\n",
       "      <td>-0.764579</td>\n",
       "      <td>1.397787</td>\n",
       "      <td>-0.194375</td>\n",
       "      <td>1.720968</td>\n",
       "    </tr>\n",
       "    <tr>\n",
       "      <th>3</th>\n",
       "      <td>0.820028</td>\n",
       "      <td>0.820246</td>\n",
       "      <td>0.820266</td>\n",
       "      <td>-0.093759</td>\n",
       "      <td>-0.047284</td>\n",
       "      <td>0.130169</td>\n",
       "      <td>1.303028</td>\n",
       "      <td>-0.194375</td>\n",
       "      <td>1.720968</td>\n",
       "    </tr>\n",
       "    <tr>\n",
       "      <th>4</th>\n",
       "      <td>0.832367</td>\n",
       "      <td>0.833760</td>\n",
       "      <td>0.833778</td>\n",
       "      <td>-1.143506</td>\n",
       "      <td>-0.431849</td>\n",
       "      <td>0.130169</td>\n",
       "      <td>1.207441</td>\n",
       "      <td>-0.194375</td>\n",
       "      <td>1.720968</td>\n",
       "    </tr>\n",
       "    <tr>\n",
       "      <th>...</th>\n",
       "      <td>...</td>\n",
       "      <td>...</td>\n",
       "      <td>...</td>\n",
       "      <td>...</td>\n",
       "      <td>...</td>\n",
       "      <td>...</td>\n",
       "      <td>...</td>\n",
       "      <td>...</td>\n",
       "      <td>...</td>\n",
       "    </tr>\n",
       "    <tr>\n",
       "      <th>1658</th>\n",
       "      <td>0.308768</td>\n",
       "      <td>0.271531</td>\n",
       "      <td>0.271607</td>\n",
       "      <td>0.706414</td>\n",
       "      <td>0.197510</td>\n",
       "      <td>-0.764579</td>\n",
       "      <td>-1.251543</td>\n",
       "      <td>0.121252</td>\n",
       "      <td>-1.807650</td>\n",
       "    </tr>\n",
       "    <tr>\n",
       "      <th>1659</th>\n",
       "      <td>0.320239</td>\n",
       "      <td>0.283596</td>\n",
       "      <td>0.283672</td>\n",
       "      <td>0.684305</td>\n",
       "      <td>-0.048884</td>\n",
       "      <td>-0.764579</td>\n",
       "      <td>-1.396354</td>\n",
       "      <td>0.121252</td>\n",
       "      <td>-1.807650</td>\n",
       "    </tr>\n",
       "    <tr>\n",
       "      <th>1660</th>\n",
       "      <td>0.337482</td>\n",
       "      <td>0.301754</td>\n",
       "      <td>0.301829</td>\n",
       "      <td>0.594424</td>\n",
       "      <td>0.253913</td>\n",
       "      <td>1.842202</td>\n",
       "      <td>-1.548716</td>\n",
       "      <td>0.121252</td>\n",
       "      <td>-1.807650</td>\n",
       "    </tr>\n",
       "    <tr>\n",
       "      <th>1661</th>\n",
       "      <td>0.343239</td>\n",
       "      <td>0.307823</td>\n",
       "      <td>0.307897</td>\n",
       "      <td>0.588914</td>\n",
       "      <td>-0.445203</td>\n",
       "      <td>-0.764579</td>\n",
       "      <td>-1.711118</td>\n",
       "      <td>0.121252</td>\n",
       "      <td>-1.807650</td>\n",
       "    </tr>\n",
       "    <tr>\n",
       "      <th>1662</th>\n",
       "      <td>0.366318</td>\n",
       "      <td>0.332179</td>\n",
       "      <td>0.332252</td>\n",
       "      <td>0.579232</td>\n",
       "      <td>0.023883</td>\n",
       "      <td>-0.764579</td>\n",
       "      <td>-1.888092</td>\n",
       "      <td>0.121252</td>\n",
       "      <td>-1.807650</td>\n",
       "    </tr>\n",
       "  </tbody>\n",
       "</table>\n",
       "<p>1663 rows × 9 columns</p>\n",
       "</div>"
      ],
      "text/plain": [
       "       VrNivel  VlVolumeHm  PcVolume%  VzQJusante  VzQNatural   VrChuva  \\\n",
       "0     0.820028    0.820246   0.820266   -0.171502    0.822810  0.130169   \n",
       "1     0.801558    0.800041   0.800064   -0.165419    0.176938  1.758223   \n",
       "2     0.807709    0.806768   0.806789   -0.227052   -0.272272 -0.764579   \n",
       "3     0.820028    0.820246   0.820266   -0.093759   -0.047284  0.130169   \n",
       "4     0.832367    0.833760   0.833778   -1.143506   -0.431849  0.130169   \n",
       "...        ...         ...        ...         ...         ...       ...   \n",
       "1658  0.308768    0.271531   0.271607    0.706414    0.197510 -0.764579   \n",
       "1659  0.320239    0.283596   0.283672    0.684305   -0.048884 -0.764579   \n",
       "1660  0.337482    0.301754   0.301829    0.594424    0.253913  1.842202   \n",
       "1661  0.343239    0.307823   0.307897    0.588914   -0.445203 -0.764579   \n",
       "1662  0.366318    0.332179   0.332252    0.579232    0.023883 -0.764579   \n",
       "\n",
       "         DdDia     MmMes     AaAno  \n",
       "0    -1.888092  0.121252  1.720968  \n",
       "1     1.491752 -0.194375  1.720968  \n",
       "2     1.397787 -0.194375  1.720968  \n",
       "3     1.303028 -0.194375  1.720968  \n",
       "4     1.207441 -0.194375  1.720968  \n",
       "...        ...       ...       ...  \n",
       "1658 -1.251543  0.121252 -1.807650  \n",
       "1659 -1.396354  0.121252 -1.807650  \n",
       "1660 -1.548716  0.121252 -1.807650  \n",
       "1661 -1.711118  0.121252 -1.807650  \n",
       "1662 -1.888092  0.121252 -1.807650  \n",
       "\n",
       "[1663 rows x 9 columns]"
      ]
     },
     "execution_count": 55,
     "metadata": {},
     "output_type": "execute_result"
    }
   ],
   "source": [
    "x_train, x_test, y_train, y_test = transformed_df(x, y, test_size=0.3, random_state=0)"
   ]
  },
  {
   "cell_type": "code",
   "execution_count": null,
   "metadata": {},
   "outputs": [
    {
     "data": {
      "text/plain": [
       "ShapiroResult(statistic=0.9507067799568176, pvalue=3.297330983196357e-23)"
      ]
     },
     "execution_count": 56,
     "metadata": {},
     "output_type": "execute_result"
    }
   ],
   "source": [
    "shapiro(test_df['VlVolumeHm'])"
   ]
  },
  {
   "cell_type": "code",
   "execution_count": null,
   "metadata": {},
   "outputs": [
    {
     "data": {
      "text/plain": [
       "<Axes: >"
      ]
     },
     "execution_count": 57,
     "metadata": {},
     "output_type": "execute_result"
    },
    {
     "data": {
      "image/png": "[encoded data removed]",
      "text/plain": [
       "<Figure size 640x480 with 1 Axes>"
      ]
     },
     "metadata": {},
     "output_type": "display_data"
    }
   ],
   "source": [
    "test_df[\"VlVolumeHm\"].hist(edgecolor=\"black\", bins=20)"
   ]
  },
  {
   "cell_type": "code",
   "execution_count": null,
   "metadata": {},
   "outputs": [
    {
     "data": {
      "text/html": [
       "<div>\n",
       "<style scoped>\n",
       "    .dataframe tbody tr th:only-of-type {\n",
       "        vertical-align: middle;\n",
       "    }\n",
       "\n",
       "    .dataframe tbody tr th {\n",
       "        vertical-align: top;\n",
       "    }\n",
       "\n",
       "    .dataframe thead th {\n",
       "        text-align: right;\n",
       "    }\n",
       "</style>\n",
       "<table border=\"1\" class=\"dataframe\">\n",
       "  <thead>\n",
       "    <tr style=\"text-align: right;\">\n",
       "      <th></th>\n",
       "      <th>VrNivel</th>\n",
       "      <th>VlVolumeHm</th>\n",
       "      <th>PcVolume%</th>\n",
       "      <th>VzQJusante</th>\n",
       "      <th>VzQNatural</th>\n",
       "      <th>VrChuva</th>\n",
       "      <th>DdDia</th>\n",
       "      <th>MmMes</th>\n",
       "      <th>AaAno</th>\n",
       "    </tr>\n",
       "  </thead>\n",
       "  <tbody>\n",
       "    <tr>\n",
       "      <th>VrNivel</th>\n",
       "      <td>1.000000</td>\n",
       "      <td>0.998217</td>\n",
       "      <td>0.998221</td>\n",
       "      <td>0.378660</td>\n",
       "      <td>0.454641</td>\n",
       "      <td>-0.054819</td>\n",
       "      <td>0.019809</td>\n",
       "      <td>-0.448305</td>\n",
       "      <td>0.518637</td>\n",
       "    </tr>\n",
       "    <tr>\n",
       "      <th>VlVolumeHm</th>\n",
       "      <td>0.998217</td>\n",
       "      <td>1.000000</td>\n",
       "      <td>1.000000</td>\n",
       "      <td>0.385306</td>\n",
       "      <td>0.458611</td>\n",
       "      <td>-0.056271</td>\n",
       "      <td>0.019973</td>\n",
       "      <td>-0.461932</td>\n",
       "      <td>0.507539</td>\n",
       "    </tr>\n",
       "    <tr>\n",
       "      <th>PcVolume%</th>\n",
       "      <td>0.998221</td>\n",
       "      <td>1.000000</td>\n",
       "      <td>1.000000</td>\n",
       "      <td>0.385297</td>\n",
       "      <td>0.458606</td>\n",
       "      <td>-0.056269</td>\n",
       "      <td>0.019972</td>\n",
       "      <td>-0.461919</td>\n",
       "      <td>0.507559</td>\n",
       "    </tr>\n",
       "    <tr>\n",
       "      <th>VzQJusante</th>\n",
       "      <td>0.378660</td>\n",
       "      <td>0.385306</td>\n",
       "      <td>0.385297</td>\n",
       "      <td>1.000000</td>\n",
       "      <td>0.526446</td>\n",
       "      <td>0.002471</td>\n",
       "      <td>-0.002096</td>\n",
       "      <td>-0.388632</td>\n",
       "      <td>-0.065013</td>\n",
       "    </tr>\n",
       "    <tr>\n",
       "      <th>VzQNatural</th>\n",
       "      <td>0.454641</td>\n",
       "      <td>0.458611</td>\n",
       "      <td>0.458606</td>\n",
       "      <td>0.526446</td>\n",
       "      <td>1.000000</td>\n",
       "      <td>0.240655</td>\n",
       "      <td>-0.016009</td>\n",
       "      <td>-0.406020</td>\n",
       "      <td>0.197880</td>\n",
       "    </tr>\n",
       "    <tr>\n",
       "      <th>VrChuva</th>\n",
       "      <td>-0.054819</td>\n",
       "      <td>-0.056271</td>\n",
       "      <td>-0.056269</td>\n",
       "      <td>0.002471</td>\n",
       "      <td>0.240655</td>\n",
       "      <td>1.000000</td>\n",
       "      <td>-0.041843</td>\n",
       "      <td>-0.017017</td>\n",
       "      <td>0.117223</td>\n",
       "    </tr>\n",
       "    <tr>\n",
       "      <th>DdDia</th>\n",
       "      <td>0.019809</td>\n",
       "      <td>0.019973</td>\n",
       "      <td>0.019972</td>\n",
       "      <td>-0.002096</td>\n",
       "      <td>-0.016009</td>\n",
       "      <td>-0.041843</td>\n",
       "      <td>1.000000</td>\n",
       "      <td>-0.038939</td>\n",
       "      <td>0.001624</td>\n",
       "    </tr>\n",
       "    <tr>\n",
       "      <th>MmMes</th>\n",
       "      <td>-0.448305</td>\n",
       "      <td>-0.461932</td>\n",
       "      <td>-0.461919</td>\n",
       "      <td>-0.388632</td>\n",
       "      <td>-0.406020</td>\n",
       "      <td>-0.017017</td>\n",
       "      <td>-0.038939</td>\n",
       "      <td>1.000000</td>\n",
       "      <td>-0.252346</td>\n",
       "    </tr>\n",
       "    <tr>\n",
       "      <th>AaAno</th>\n",
       "      <td>0.518637</td>\n",
       "      <td>0.507539</td>\n",
       "      <td>0.507559</td>\n",
       "      <td>-0.065013</td>\n",
       "      <td>0.197880</td>\n",
       "      <td>0.117223</td>\n",
       "      <td>0.001624</td>\n",
       "      <td>-0.252346</td>\n",
       "      <td>1.000000</td>\n",
       "    </tr>\n",
       "  </tbody>\n",
       "</table>\n",
       "</div>"
      ],
      "text/plain": [
       "             VrNivel  VlVolumeHm  PcVolume%  VzQJusante  VzQNatural   VrChuva  \\\n",
       "VrNivel     1.000000    0.998217   0.998221    0.378660    0.454641 -0.054819   \n",
       "VlVolumeHm  0.998217    1.000000   1.000000    0.385306    0.458611 -0.056271   \n",
       "PcVolume%   0.998221    1.000000   1.000000    0.385297    0.458606 -0.056269   \n",
       "VzQJusante  0.378660    0.385306   0.385297    1.000000    0.526446  0.002471   \n",
       "VzQNatural  0.454641    0.458611   0.458606    0.526446    1.000000  0.240655   \n",
       "VrChuva    -0.054819   -0.056271  -0.056269    0.002471    0.240655  1.000000   \n",
       "DdDia       0.019809    0.019973   0.019972   -0.002096   -0.016009 -0.041843   \n",
       "MmMes      -0.448305   -0.461932  -0.461919   -0.388632   -0.406020 -0.017017   \n",
       "AaAno       0.518637    0.507539   0.507559   -0.065013    0.197880  0.117223   \n",
       "\n",
       "               DdDia     MmMes     AaAno  \n",
       "VrNivel     0.019809 -0.448305  0.518637  \n",
       "VlVolumeHm  0.019973 -0.461932  0.507539  \n",
       "PcVolume%   0.019972 -0.461919  0.507559  \n",
       "VzQJusante -0.002096 -0.388632 -0.065013  \n",
       "VzQNatural -0.016009 -0.406020  0.197880  \n",
       "VrChuva    -0.041843 -0.017017  0.117223  \n",
       "DdDia       1.000000 -0.038939  0.001624  \n",
       "MmMes      -0.038939  1.000000 -0.252346  \n",
       "AaAno       0.001624 -0.252346  1.000000  "
      ]
     },
     "execution_count": 58,
     "metadata": {},
     "output_type": "execute_result"
    }
   ],
   "source": [
    "test_df.corr()"
   ]
  },
  {
   "attachments": {},
   "cell_type": "markdown",
   "metadata": {},
   "source": [
    "##### Séries Temporais: Para o que servem\n",
    "- Avaliar o comportamento de uma variável para um período de tempo especifico\n",
    "- Detectar se há algum padrão nos acontecimentos\n",
    "- Detectar se há uma mudança brusca nos acontecimentos\n",
    "\n",
    "##### Etapas\n",
    "- Realizar todos tratamentos paramétricos antes\n",
    "- Transformar dados transacionais em uma série de tempo. Para isto:\n",
    "    - Definir o nível: [nível da agua e intervalo de tempo]\n"
   ]
  },
  {
   "cell_type": "code",
   "execution_count": null,
   "metadata": {},
   "outputs": [],
   "source": []
  }
 ],
 "metadata": {
  "kernelspec": {
   "display_name": "modelo-sabesp-ccLZWcER-py3.9",
   "language": "python",
   "name": "python3"
  },
  "language_info": {
   "codemirror_mode": {
    "name": "ipython",
    "version": 3
   },
   "file_extension": ".py",
   "mimetype": "text/x-python",
   "name": "python",
   "nbconvert_exporter": "python",
   "pygments_lexer": "ipython3",
   "version": "3.9.4"
  }
 },
 "nbformat": 4,
 "nbformat_minor": 2
}
